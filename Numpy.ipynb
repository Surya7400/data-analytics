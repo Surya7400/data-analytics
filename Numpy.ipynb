{
  "nbformat": 4,
  "nbformat_minor": 0,
  "metadata": {
    "colab": {
      "provenance": [],
      "authorship_tag": "ABX9TyNfJxM5C/WGhohQKHQ79Rhp",
      "include_colab_link": true
    },
    "kernelspec": {
      "name": "python3",
      "display_name": "Python 3"
    },
    "language_info": {
      "name": "python"
    }
  },
  "cells": [
    {
      "cell_type": "markdown",
      "metadata": {
        "id": "view-in-github",
        "colab_type": "text"
      },
      "source": [
        "<a href=\"https://colab.research.google.com/github/Surya7400/data-analytics/blob/main/Numpy.ipynb\" target=\"_parent\"><img src=\"https://colab.research.google.com/assets/colab-badge.svg\" alt=\"Open In Colab\"/></a>"
      ]
    },
    {
      "cell_type": "code",
      "execution_count": null,
      "metadata": {
        "colab": {
          "base_uri": "https://localhost:8080/"
        },
        "id": "lkr1D7BHHrQF",
        "outputId": "7a65f564-2549-4b40-fb93-b858c25adfc0"
      },
      "outputs": [
        {
          "output_type": "stream",
          "name": "stdout",
          "text": [
            "[1 2 3]\n",
            "<class 'numpy.ndarray'>\n"
          ]
        }
      ],
      "source": [
        "#create numpy array\n",
        "import numpy as np\n",
        "n=np.array([1,2,3])\n",
        "print(n)\n",
        "print(type(n))"
      ]
    },
    {
      "cell_type": "code",
      "source": [
        "#create numpy array\n",
        "import numpy as np\n",
        "n=np.array([1,2,3])\n",
        "print(n)\n",
        "print(\"dimension=\",n.ndim)"
      ],
      "metadata": {
        "colab": {
          "base_uri": "https://localhost:8080/"
        },
        "id": "Akp13fdwIcsD",
        "outputId": "bec15b23-9996-453e-ac6b-cd7e4eebeae6"
      },
      "execution_count": null,
      "outputs": [
        {
          "output_type": "stream",
          "name": "stdout",
          "text": [
            "[1 2 3]\n",
            "dimension= 1\n"
          ]
        }
      ]
    },
    {
      "cell_type": "code",
      "source": [
        "#create numpy array\n",
        "import numpy as np\n",
        "n=np.array([[1,2,3],[4,5,6]])\n",
        "print(n)\n",
        "print(\"dimension=\",n.ndim)"
      ],
      "metadata": {
        "colab": {
          "base_uri": "https://localhost:8080/"
        },
        "id": "P-xqU42zIqZf",
        "outputId": "a8b55c4e-a815-4628-bd34-715221e6ce8b"
      },
      "execution_count": null,
      "outputs": [
        {
          "output_type": "stream",
          "name": "stdout",
          "text": [
            "[[1 2 3]\n",
            " [4 5 6]]\n",
            "dimension= 2\n"
          ]
        }
      ]
    },
    {
      "cell_type": "code",
      "source": [
        "#initialize numpy array\n",
        "import numpy as np\n",
        "n=np.zeros((2,2))\n",
        "print(n)\n",
        "print(type(n))"
      ],
      "metadata": {
        "colab": {
          "base_uri": "https://localhost:8080/"
        },
        "id": "uk_rfvCAI9yj",
        "outputId": "8bbf5249-0fdc-4c8d-8537-5fc12e65cef9"
      },
      "execution_count": null,
      "outputs": [
        {
          "output_type": "stream",
          "name": "stdout",
          "text": [
            "[[0. 0.]\n",
            " [0. 0.]]\n",
            "<class 'numpy.ndarray'>\n"
          ]
        }
      ]
    },
    {
      "cell_type": "code",
      "source": [
        "#create numpy array\n",
        "import numpy as np\n",
        "n=np.array([1,2,3])\n",
        "print(n)\n",
        "print(n.dtype)"
      ],
      "metadata": {
        "colab": {
          "base_uri": "https://localhost:8080/"
        },
        "id": "68LMU7y1JUkw",
        "outputId": "1ecec56b-1ea5-4192-c9ef-0e0ab383e245"
      },
      "execution_count": null,
      "outputs": [
        {
          "output_type": "stream",
          "name": "stdout",
          "text": [
            "[1 2 3]\n",
            "int64\n"
          ]
        }
      ]
    },
    {
      "cell_type": "code",
      "source": [
        "#get the datatype of a numpy array\n",
        "import numpy as np\n",
        "n=np.array(['amrutha','rohit','aswin','virat'])\n",
        "print(n.dtype)"
      ],
      "metadata": {
        "colab": {
          "base_uri": "https://localhost:8080/"
        },
        "id": "XU9jP8lBJwoW",
        "outputId": "164e6a29-776b-4e94-be7d-031719f14f95"
      },
      "execution_count": null,
      "outputs": [
        {
          "output_type": "stream",
          "name": "stdout",
          "text": [
            "<U7\n"
          ]
        }
      ]
    },
    {
      "cell_type": "code",
      "source": [
        "#convert one datatype to another\n",
        "import numpy as np\n",
        "n=np.array(['10','20','30','40','50'])\n",
        "print(n)\n",
        "print(n.dtype)\n",
        "n2=n.astype('i')\n",
        "print(n2)\n",
        "print(n2.dtype)"
      ],
      "metadata": {
        "colab": {
          "base_uri": "https://localhost:8080/"
        },
        "id": "gJRxrDZsaL9I",
        "outputId": "9ccbed13-a1e3-4aee-f946-9f426504e15c"
      },
      "execution_count": null,
      "outputs": [
        {
          "output_type": "stream",
          "name": "stdout",
          "text": [
            "['10' '20' '30' '40' '50']\n",
            "<U2\n",
            "[10 20 30 40 50]\n",
            "int32\n"
          ]
        }
      ]
    },
    {
      "cell_type": "code",
      "source": [
        "#access the 1st element in\n",
        "import numpy as np\n",
        "n=np.array([1,2,3])\n",
        "print(n)\n",
        "print(n.dtype)"
      ],
      "metadata": {
        "id": "_OUOSUVHa8rW"
      },
      "execution_count": null,
      "outputs": []
    }
  ]
}