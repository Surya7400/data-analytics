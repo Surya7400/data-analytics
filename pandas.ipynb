{
  "cells": [
    {
      "cell_type": "markdown",
      "metadata": {
        "id": "view-in-github",
        "colab_type": "text"
      },
      "source": [
        "<a href=\"https://colab.research.google.com/github/Surya7400/data-analytics/blob/main/pandas.ipynb\" target=\"_parent\"><img src=\"https://colab.research.google.com/assets/colab-badge.svg\" alt=\"Open In Colab\"/></a>"
      ]
    },
    {
      "cell_type": "code",
      "execution_count": null,
      "metadata": {
        "colab": {
          "base_uri": "https://localhost:8080/"
        },
        "id": "QFYteUiwN7Si",
        "outputId": "d878e2b2-b501-4fb6-fa4b-2cc5366ae0f6"
      },
      "outputs": [
        {
          "name": "stdout",
          "output_type": "stream",
          "text": [
            "total profit of $ 125.0\n"
          ]
        }
      ],
      "source": [
        "#store input in variables\n",
        "cost_of_bag = 1.25\n",
        "profit_margin=.2\n",
        "no_of_bags=500\n",
        "#perform the required calculations\n",
        "profit_per_bag=profit_margin*cost_of_bag\n",
        "total_profit=no_of_bags*profit_per_bag\n",
        "#display the result\n",
        "print(\"total profit of $\",total_profit)"
      ]
    },
    {
      "cell_type": "code",
      "execution_count": null,
      "metadata": {
        "id": "GMqqipAOPx5Y"
      },
      "outputs": [],
      "source": [
        "#install jovian python library\n",
        "!pip install jovian --upgrade --quiet"
      ]
    },
    {
      "cell_type": "code",
      "execution_count": null,
      "metadata": {
        "id": "RQiTIb2VVQzJ"
      },
      "outputs": [],
      "source": [
        "import jovian"
      ]
    },
    {
      "cell_type": "code",
      "execution_count": null,
      "metadata": {
        "colab": {
          "base_uri": "https://localhost:8080/"
        },
        "id": "K7w99DrqWX2V",
        "outputId": "9105c285-50cb-40bc-b5df-e5a97e321e70"
      },
      "outputs": [
        {
          "name": "stdout",
          "output_type": "stream",
          "text": [
            "[jovian] Detected Colab notebook...\u001b[0m\n",
            "[jovian] jovian.commit() is no longer required on Google Colab. If you ran this notebook from Jovian, \n",
            "then just save this file in Colab using Ctrl+S/Cmd+S and it will be updated on Jovian. \n",
            "Also, you can also delete this cell, it's no longer necessary.\u001b[0m\n"
          ]
        }
      ],
      "source": [
        "jovian.commit(project='first-steps-with-python')"
      ]
    },
    {
      "cell_type": "code",
      "execution_count": null,
      "metadata": {
        "colab": {
          "base_uri": "https://localhost:8080/"
        },
        "id": "tH1G5McEYbtG",
        "outputId": "a24b4a6a-3b4f-4eb3-a11c-fa8f5cf79dfd"
      },
      "outputs": [
        {
          "data": {
            "text/plain": [
              "8"
            ]
          },
          "execution_count": 14,
          "metadata": {},
          "output_type": "execute_result"
        }
      ],
      "source": [
        "user=\"samcuran\"\n",
        "len(user)"
      ]
    },
    {
      "cell_type": "code",
      "execution_count": null,
      "metadata": {
        "colab": {
          "base_uri": "https://localhost:8080/"
        },
        "id": "Mq0MonjgcVaS",
        "outputId": "5c7b4550-a31f-4a5e-a9d9-5e0d458777d2"
      },
      "outputs": [
        {
          "data": {
            "text/plain": [
              "['s', 'a', 'm', 'c', 'u', 'r', 'a', 'n']"
            ]
          },
          "execution_count": 15,
          "metadata": {},
          "output_type": "execute_result"
        }
      ],
      "source": [
        "list(user)"
      ]
    },
    {
      "cell_type": "code",
      "execution_count": null,
      "metadata": {
        "colab": {
          "base_uri": "https://localhost:8080/"
        },
        "id": "dL9QsI3gccRC",
        "outputId": "f45ef439-c123-4d55-f518-71f4e6646ed4"
      },
      "outputs": [
        {
          "data": {
            "text/plain": [
              "('s', 'a', 'm', 'c', 'u', 'r', 'a', 'n')"
            ]
          },
          "execution_count": 16,
          "metadata": {},
          "output_type": "execute_result"
        }
      ],
      "source": [
        "tuple(user)"
      ]
    },
    {
      "cell_type": "code",
      "execution_count": null,
      "metadata": {
        "colab": {
          "base_uri": "https://localhost:8080/",
          "height": 36
        },
        "id": "Qtrx4CQQc_zQ",
        "outputId": "ca4751f7-a0de-43a4-ece0-dba9973ec33e"
      },
      "outputs": [
        {
          "data": {
            "application/vnd.google.colaboratory.intrinsic+json": {
              "type": "string"
            },
            "text/plain": [
              "'s'"
            ]
          },
          "execution_count": 21,
          "metadata": {},
          "output_type": "execute_result"
        }
      ],
      "source": [
        "user[0]"
      ]
    },
    {
      "cell_type": "code",
      "execution_count": null,
      "metadata": {
        "colab": {
          "base_uri": "https://localhost:8080/",
          "height": 36
        },
        "id": "b5_SzSwNdO-Y",
        "outputId": "f19581f7-a81d-4edb-d1d7-b25897fba4f2"
      },
      "outputs": [
        {
          "data": {
            "application/vnd.google.colaboratory.intrinsic+json": {
              "type": "string"
            },
            "text/plain": [
              "'SAMCURAN'"
            ]
          },
          "execution_count": 22,
          "metadata": {},
          "output_type": "execute_result"
        }
      ],
      "source": [
        "user.upper()"
      ]
    },
    {
      "cell_type": "code",
      "execution_count": null,
      "metadata": {
        "colab": {
          "base_uri": "https://localhost:8080/",
          "height": 36
        },
        "id": "_Ft6Ismgdxqb",
        "outputId": "84ec3bc3-fb1e-435b-d00f-ac7fe98b2117"
      },
      "outputs": [
        {
          "data": {
            "application/vnd.google.colaboratory.intrinsic+json": {
              "type": "string"
            },
            "text/plain": [
              "'Samcuran'"
            ]
          },
          "execution_count": 24,
          "metadata": {},
          "output_type": "execute_result"
        }
      ],
      "source": [
        "user.capitalize()"
      ]
    },
    {
      "cell_type": "code",
      "execution_count": null,
      "metadata": {
        "colab": {
          "base_uri": "https://localhost:8080/",
          "height": 36
        },
        "id": "Yo6G5uiGdk3X",
        "outputId": "5d8aef8a-5700-4400-93a3-7665a0900c13"
      },
      "outputs": [
        {
          "data": {
            "application/vnd.google.colaboratory.intrinsic+json": {
              "type": "string"
            },
            "text/plain": [
              "'samcuran'"
            ]
          },
          "execution_count": 23,
          "metadata": {},
          "output_type": "execute_result"
        }
      ],
      "source": [
        "user.lower()"
      ]
    },
    {
      "cell_type": "code",
      "execution_count": null,
      "metadata": {
        "colab": {
          "base_uri": "https://localhost:8080/",
          "height": 36
        },
        "id": "yOrXkPGJd6xu",
        "outputId": "b5095e75-96e7-48c9-e425-20af21e9a10c"
      },
      "outputs": [
        {
          "data": {
            "application/vnd.google.colaboratory.intrinsic+json": {
              "type": "string"
            },
            "text/plain": [
              "'samcuran'"
            ]
          },
          "execution_count": 27,
          "metadata": {},
          "output_type": "execute_result"
        }
      ],
      "source": [
        "user.replace('samkumar','samcuren')"
      ]
    },
    {
      "cell_type": "code",
      "execution_count": null,
      "metadata": {
        "colab": {
          "base_uri": "https://localhost:8080/",
          "height": 36
        },
        "id": "NYN0CfBPleyp",
        "outputId": "810f0a45-88f4-4c0f-b94d-1ab0c381f53b"
      },
      "outputs": [
        {
          "data": {
            "application/vnd.google.colaboratory.intrinsic+json": {
              "type": "string"
            },
            "text/plain": [
              "'amc'"
            ]
          },
          "execution_count": 28,
          "metadata": {},
          "output_type": "execute_result"
        }
      ],
      "source": [
        "user[1:4]"
      ]
    },
    {
      "cell_type": "code",
      "execution_count": null,
      "metadata": {
        "colab": {
          "base_uri": "https://localhost:8080/"
        },
        "id": "0HlFpycolu84",
        "outputId": "098ebc9c-acdf-4fe7-f0fa-76c14edf9f24"
      },
      "outputs": [
        {
          "name": "stdout",
          "output_type": "stream",
          "text": [
            "['sam']\n"
          ]
        }
      ],
      "source": [
        "a=[]\n",
        "a.append('sam')\n",
        "print(a)\n"
      ]
    },
    {
      "cell_type": "code",
      "execution_count": null,
      "metadata": {
        "colab": {
          "base_uri": "https://localhost:8080/"
        },
        "id": "rJbViNyVmtFr",
        "outputId": "78dd03b3-3041-43f5-c5c9-32b16dbe615c"
      },
      "outputs": [
        {
          "name": "stdout",
          "output_type": "stream",
          "text": [
            "['sam', 'curan', 'curan', 'curan']\n"
          ]
        }
      ],
      "source": [
        "a.append('curan')\n",
        "print(a)"
      ]
    },
    {
      "cell_type": "markdown",
      "metadata": {
        "id": "Sg1rYI_lm24f"
      },
      "source": [
        "a.insert(3,'is')\n",
        "print(a)"
      ]
    },
    {
      "cell_type": "markdown",
      "metadata": {
        "id": "I3DhGyiBnPcW"
      },
      "source": [
        "a.remove('curan')"
      ]
    },
    {
      "cell_type": "code",
      "execution_count": null,
      "metadata": {
        "id": "uDHgResPnks7"
      },
      "outputs": [],
      "source": [
        "a.remove('curan')"
      ]
    },
    {
      "cell_type": "code",
      "execution_count": null,
      "metadata": {
        "colab": {
          "base_uri": "https://localhost:8080/"
        },
        "id": "C9T-QZ2NnbBm",
        "outputId": "419c98d7-5795-480f-9c33-e792c7fb25c9"
      },
      "outputs": [
        {
          "name": "stdout",
          "output_type": "stream",
          "text": [
            "['sam', 'curan', 'is', 'curan']\n"
          ]
        }
      ],
      "source": [
        "print(a)"
      ]
    },
    {
      "cell_type": "code",
      "execution_count": null,
      "metadata": {
        "colab": {
          "base_uri": "https://localhost:8080/"
        },
        "id": "PFJ-AM8insLI",
        "outputId": "0abd9bb1-1d29-4953-b5b7-9af5af3033e7"
      },
      "outputs": [
        {
          "name": "stdout",
          "output_type": "stream",
          "text": [
            "['sam', 'is', 'curan']\n"
          ]
        }
      ],
      "source": [
        "print(a)"
      ]
    },
    {
      "cell_type": "code",
      "execution_count": null,
      "metadata": {
        "colab": {
          "base_uri": "https://localhost:8080/"
        },
        "id": "J86fpkjpn5Px",
        "outputId": "18fec093-d25d-46e2-8862-bb33e8f06a9a"
      },
      "outputs": [
        {
          "name": "stdout",
          "output_type": "stream",
          "text": [
            "['apple', 'banana', 'cherry', 'orange']\n"
          ]
        }
      ],
      "source": [
        "fruits=['apple','banana','cherry']\n",
        "fruits.append('orange')\n",
        "print(fruits)"
      ]
    },
    {
      "cell_type": "code",
      "execution_count": null,
      "metadata": {
        "colab": {
          "base_uri": "https://localhost:8080/"
        },
        "id": "etqvi06PoGnY",
        "outputId": "63d210a9-ffb4-49c5-f8cf-82fae31baca9"
      },
      "outputs": [
        {
          "data": {
            "text/plain": [
              "True"
            ]
          },
          "execution_count": 44,
          "metadata": {},
          "output_type": "execute_result"
        }
      ],
      "source": [
        "'apple'in fruits"
      ]
    },
    {
      "cell_type": "code",
      "execution_count": null,
      "metadata": {
        "colab": {
          "base_uri": "https://localhost:8080/"
        },
        "id": "5X2vDw0foavP",
        "outputId": "277dae61-c003-4f07-c4f9-43d6cd8df64b"
      },
      "outputs": [
        {
          "data": {
            "text/plain": [
              "False"
            ]
          },
          "execution_count": 46,
          "metadata": {},
          "output_type": "execute_result"
        }
      ],
      "source": [
        "'pineapple'in fruits"
      ]
    },
    {
      "cell_type": "code",
      "execution_count": null,
      "metadata": {
        "colab": {
          "base_uri": "https://localhost:8080/"
        },
        "id": "Zk2MRv_HoWC3",
        "outputId": "bf9d1686-571e-4c31-eaf9-18504e3d4f9c"
      },
      "outputs": [
        {
          "data": {
            "text/plain": [
              "True"
            ]
          },
          "execution_count": 45,
          "metadata": {},
          "output_type": "execute_result"
        }
      ],
      "source": [
        "'orange'in fruits"
      ]
    },
    {
      "cell_type": "code",
      "execution_count": null,
      "metadata": {
        "colab": {
          "base_uri": "https://localhost:8080/"
        },
        "id": "waN_zZNYog1M",
        "outputId": "aad36f6f-eff4-4e77-a217-5f0eb011a67a"
      },
      "outputs": [
        {
          "name": "stdout",
          "output_type": "stream",
          "text": [
            "{'name': 'sam', 'age': 25, 'city': 'salem', 'sex': 'male'}\n"
          ]
        }
      ],
      "source": [
        "person={'name':'sam','age':25,'city':'salem','sex':'male'}\n",
        "print(person)"
      ]
    },
    {
      "cell_type": "code",
      "execution_count": null,
      "metadata": {
        "colab": {
          "base_uri": "https://localhost:8080/"
        },
        "id": "rjT5hfN0yuYH",
        "outputId": "9dde998d-623e-4e18-a01a-d8271f68644a"
      },
      "outputs": [
        {
          "name": "stdout",
          "output_type": "stream",
          "text": [
            "{'name': 'don', 'age': 26, 'city': 'trichy', 'sex': 'male'}\n"
          ]
        }
      ],
      "source": [
        "person1=dict(name='don',age=26,city='trichy',sex='male')\n",
        "print(person1)"
      ]
    },
    {
      "cell_type": "code",
      "execution_count": null,
      "metadata": {
        "colab": {
          "base_uri": "https://localhost:8080/"
        },
        "id": "vPAdOOMAzh3Y",
        "outputId": "c7cc94fb-859a-4593-a272-2cc814d4f67e"
      },
      "outputs": [
        {
          "data": {
            "text/plain": [
              "dict"
            ]
          },
          "execution_count": 51,
          "metadata": {},
          "output_type": "execute_result"
        }
      ],
      "source": [
        "type(person)"
      ]
    },
    {
      "cell_type": "code",
      "execution_count": null,
      "metadata": {
        "colab": {
          "base_uri": "https://localhost:8080/",
          "height": 36
        },
        "id": "3r5mCB8Wzpte",
        "outputId": "aa0dedbc-d15a-4291-9c4a-f837fa2c9535"
      },
      "outputs": [
        {
          "data": {
            "application/vnd.google.colaboratory.intrinsic+json": {
              "type": "string"
            },
            "text/plain": [
              "'sam'"
            ]
          },
          "execution_count": 53,
          "metadata": {},
          "output_type": "execute_result"
        }
      ],
      "source": [
        "person['name']"
      ]
    },
    {
      "cell_type": "code",
      "execution_count": null,
      "metadata": {
        "colab": {
          "base_uri": "https://localhost:8080/",
          "height": 36
        },
        "id": "4C-TVWaV0Cco",
        "outputId": "ce5b7367-9d39-436c-a216-d27993220e6b"
      },
      "outputs": [
        {
          "data": {
            "application/vnd.google.colaboratory.intrinsic+json": {
              "type": "string"
            },
            "text/plain": [
              "'don'"
            ]
          },
          "execution_count": 55,
          "metadata": {},
          "output_type": "execute_result"
        }
      ],
      "source": [
        "person1['name']"
      ]
    },
    {
      "cell_type": "code",
      "execution_count": null,
      "metadata": {
        "colab": {
          "base_uri": "https://localhost:8080/"
        },
        "id": "pLeHZfSl0Nck",
        "outputId": "adec63b6-6c5a-44dc-c427-b589efe76a8e"
      },
      "outputs": [
        {
          "data": {
            "text/plain": [
              "25"
            ]
          },
          "execution_count": 56,
          "metadata": {},
          "output_type": "execute_result"
        }
      ],
      "source": [
        "person['age']"
      ]
    },
    {
      "cell_type": "code",
      "execution_count": null,
      "metadata": {
        "colab": {
          "base_uri": "https://localhost:8080/"
        },
        "id": "jr41zQQ20TbE",
        "outputId": "6b394517-6b0a-4cbc-a245-7ef472bc9596"
      },
      "outputs": [
        {
          "data": {
            "text/plain": [
              "True"
            ]
          },
          "execution_count": 57,
          "metadata": {},
          "output_type": "execute_result"
        }
      ],
      "source": [
        "'name'in person"
      ]
    },
    {
      "cell_type": "code",
      "execution_count": null,
      "metadata": {
        "colab": {
          "base_uri": "https://localhost:8080/"
        },
        "id": "CA-CIPNH0sZ7",
        "outputId": "7d524b3a-b7c6-4a2a-c41e-2d875ffa7a14"
      },
      "outputs": [
        {
          "data": {
            "text/plain": [
              "True"
            ]
          },
          "execution_count": 58,
          "metadata": {},
          "output_type": "execute_result"
        }
      ],
      "source": [
        "'age'in person1"
      ]
    },
    {
      "cell_type": "code",
      "execution_count": null,
      "metadata": {
        "colab": {
          "base_uri": "https://localhost:8080/"
        },
        "id": "x4MP7vuf03CH",
        "outputId": "ce8e0ad4-7f9a-406a-d2f5-2f1db69c6755"
      },
      "outputs": [
        {
          "data": {
            "text/plain": [
              "dict_keys(['name', 'age', 'city', 'sex'])"
            ]
          },
          "execution_count": 61,
          "metadata": {},
          "output_type": "execute_result"
        }
      ],
      "source": [
        "person.keys()"
      ]
    },
    {
      "cell_type": "code",
      "execution_count": null,
      "metadata": {
        "colab": {
          "base_uri": "https://localhost:8080/"
        },
        "id": "oLybifzV1Eek",
        "outputId": "f35d02e4-c6ae-4623-cb08-d2a4bb15247a"
      },
      "outputs": [
        {
          "data": {
            "text/plain": [
              "dict_values(['sam', 25, 'salem', 'male'])"
            ]
          },
          "execution_count": 62,
          "metadata": {},
          "output_type": "execute_result"
        }
      ],
      "source": [
        "person.values()"
      ]
    },
    {
      "cell_type": "code",
      "execution_count": null,
      "metadata": {
        "colab": {
          "base_uri": "https://localhost:8080/"
        },
        "id": "APJPOkNh1IrO",
        "outputId": "ad2a4ee3-ce9c-4e2a-e304-5260d969663a"
      },
      "outputs": [
        {
          "data": {
            "text/plain": [
              "dict_items([('name', 'sam'), ('age', 25), ('city', 'salem'), ('sex', 'male')])"
            ]
          },
          "execution_count": 63,
          "metadata": {},
          "output_type": "execute_result"
        }
      ],
      "source": [
        "person.items()"
      ]
    },
    {
      "cell_type": "code",
      "execution_count": null,
      "metadata": {
        "colab": {
          "base_uri": "https://localhost:8080/",
          "height": 621
        },
        "id": "dJr6oPpP1mDZ",
        "outputId": "7e73a3be-38e3-472f-975f-2d64b392ac80"
      },
      "outputs": [
        {
          "data": {
            "text/html": [
              "<div style=\"max-width:800px; border: 1px solid var(--colab-border-color);\"><style>\n",
              "      pre.function-repr-contents {\n",
              "        overflow-x: auto;\n",
              "        padding: 8px 12px;\n",
              "        max-height: 500px;\n",
              "      }\n",
              "\n",
              "      pre.function-repr-contents.function-repr-contents-collapsed {\n",
              "        cursor: pointer;\n",
              "        max-height: 100px;\n",
              "      }\n",
              "    </style>\n",
              "    <pre style=\"white-space: initial; background:\n",
              "         var(--colab-secondary-surface-color); padding: 8px 12px;\n",
              "         border-bottom: 1px solid var(--colab-border-color);\"><b>jovian.utils.commit.commit</b><br/>def commit(message=None, files=[], outputs=[], environment=None, privacy=&#x27;auto&#x27;, filename=None, project=None, new_project=None, git_commit=False, git_message=&#x27;auto&#x27;, require_write_access=False, **kwargs)</pre><pre class=\"function-repr-contents function-repr-contents-collapsed\" style=\"\"><a class=\"filepath\" style=\"display:none\" href=\"#\">/usr/local/lib/python3.11/dist-packages/jovian/utils/commit.py</a>Uploads the current file (Jupyter notebook or python script) to |Jovian|\n",
              "\n",
              "Saves the checkpoint of the notebook, captures the required dependencies from\n",
              "the python environment and uploads the notebook, env file, additional files like scripts, csv etc.\n",
              "to |Jovian|. Capturing the python environment ensures that the notebook can be reproduced.\n",
              "\n",
              "Args:\n",
              "    message(string, optional): A short message to be used as the title for this version.\n",
              "\n",
              "    files(array, optional): Any additional scripts(.py files), CSVs etc. that are required to\n",
              "        run the notebook. These will be available in the files tab of the project page on Jovian\n",
              "\n",
              "    outputs(array, optional): Any outputs files or artifacts generated from the modeling processing.\n",
              "        This can include model weights/checkpoints, generated CSVs, output images etc.\n",
              "\n",
              "    environment(string, optional): The type of Python environment to be captured.  Allowed options are\n",
              "        &#x27;conda&#x27; , &#x27;pip&#x27;, &#x27;auto&#x27; (for automatic detection) and None (to skip environment capture).\n",
              "\n",
              "    privacy(bool, optional): Privacy level of the project (if a new one is being created).\n",
              "\n",
              "        * &#x27;auto&#x27; - use account level settings. Defaults to &#x27;public&#x27;\n",
              "        * &#x27;public&#x27; - visible on profile and publicly accessible/searchable\n",
              "        * &#x27;secret&#x27; - not on profile only accessible via the direct link\n",
              "        * &#x27;private&#x27; - only for the accessible to owner and collaborators\n",
              "\n",
              "        This argument has no effect on existing project. Change the privacy settings of a existing notebook\n",
              "        on the webapp.\n",
              "\n",
              "    filename(string, optional): The filename of the current Jupyter notebook or Python script. This is\n",
              "        detected automatically in most cases, but in certain environments like Jupyter Lab or password protected notebooks, the detection\n",
              "        may fail and the filename needs to be provided using this argument.\n",
              "\n",
              "\n",
              "    project(string, optional): Name of the |Jovian| project to which the current notebook/file should\n",
              "        be committed. Format: &#x27;username/title&#x27; e.g. &#x27;aakashns/jovian-example&#x27; or &#x27;jovian-example&#x27;\n",
              "        (username of current user inferred automatically). If the project does not exist, a new one is\n",
              "        created. If it exists, the current notebook is added as a new version to the existing project, if\n",
              "        you are a owner/collaborator. If left empty, project name is picked up from the `.jovianrc` file in the\n",
              "        current directory, or a new project is created using the filename as the project name.\n",
              "\n",
              "    new_project(bool, optional): Whether to create a new project or update the existing one. Allowed option\n",
              "        are False (use the existing project, if a .jovianrc file exists, if available), True (create a new project)\n",
              "\n",
              "    git_commit(bool, optional): If True, also performs a Git commit and records the commit hash. This is\n",
              "        applicable only when the notebook is inside a Git repository.\n",
              "\n",
              "    git_message(string, optional): Commit message for git. If not provided, it uses the `message` argument\n",
              "\n",
              "    require_write_access(false, optional): Commit only if the current user has write access\n",
              "\n",
              ".. attention::\n",
              "    Pass notebook&#x27;s name to `filename` argument, in certain environments like Jupyter Lab and password protected\n",
              "    notebooks sometimes it may fail to detect notebook automatically.\n",
              ".. |Jovian| raw:: html\n",
              "\n",
              "    &lt;a href=&quot;https://jovian.ai/?utm_source=docs&quot; target=&quot;_blank&quot;&gt; Jovian &lt;/a&gt;</pre>\n",
              "      <script>\n",
              "      if (google.colab.kernel.accessAllowed && google.colab.files && google.colab.files.view) {\n",
              "        for (const element of document.querySelectorAll('.filepath')) {\n",
              "          element.style.display = 'block'\n",
              "          element.onclick = (event) => {\n",
              "            event.preventDefault();\n",
              "            event.stopPropagation();\n",
              "            google.colab.files.view(element.textContent, 24);\n",
              "          };\n",
              "        }\n",
              "      }\n",
              "      for (const element of document.querySelectorAll('.function-repr-contents')) {\n",
              "        element.onclick = (event) => {\n",
              "          event.preventDefault();\n",
              "          event.stopPropagation();\n",
              "          element.classList.toggle('function-repr-contents-collapsed');\n",
              "        };\n",
              "      }\n",
              "      </script>\n",
              "      </div>"
            ],
            "text/plain": [
              "<function jovian.utils.commit.commit(message=None, files=[], outputs=[], environment=None, privacy='auto', filename=None, project=None, new_project=None, git_commit=False, git_message='auto', require_write_access=False, **kwargs)>"
            ]
          },
          "execution_count": 64,
          "metadata": {},
          "output_type": "execute_result"
        }
      ],
      "source": [
        "jovian.commit"
      ]
    },
    {
      "cell_type": "code",
      "execution_count": null,
      "metadata": {
        "colab": {
          "base_uri": "https://localhost:8080/"
        },
        "id": "rOk_3o6d6hkS",
        "outputId": "b85065b0-6bff-439e-c282-3c5bd4bc7dc7"
      },
      "outputs": [
        {
          "name": "stdout",
          "output_type": "stream",
          "text": [
            "5 is greater than 2\n"
          ]
        }
      ],
      "source": [
        "#branching\n",
        "if(5>2):\n",
        "    print(\"5 is greater than 2\")"
      ]
    },
    {
      "cell_type": "code",
      "execution_count": null,
      "metadata": {
        "colab": {
          "base_uri": "https://localhost:8080/"
        },
        "id": "6ZjcD3KM7Nfk",
        "outputId": "a4242918-5d0c-4aba-89e0-96c43343cc3d"
      },
      "outputs": [
        {
          "name": "stdout",
          "output_type": "stream",
          "text": [
            "enter the number5\n",
            "it is odd\n"
          ]
        }
      ],
      "source": [
        "number = int(input(\"enter the number\"))\n",
        "if number%2==0:\n",
        "    print(\"it is even\")\n",
        "else:\n",
        "    print(\"it is odd\")"
      ]
    },
    {
      "cell_type": "code",
      "execution_count": null,
      "metadata": {
        "colab": {
          "base_uri": "https://localhost:8080/"
        },
        "id": "xLlSNqwjNsmt",
        "outputId": "a0ea8785-84fe-4e69-c497-5a4f2868429c"
      },
      "outputs": [
        {
          "name": "stdout",
          "output_type": "stream",
          "text": [
            "1\n",
            "2\n",
            "6\n",
            "24\n",
            "120\n",
            "720\n",
            "5040\n",
            "40320\n",
            "362880\n",
            "3628800\n",
            "39916800\n",
            "479001600\n",
            "6227020800\n",
            "87178291200\n",
            "1307674368000\n",
            "20922789888000\n",
            "355687428096000\n",
            "6402373705728000\n",
            "121645100408832000\n",
            "2432902008176640000\n",
            "51090942171709440000\n",
            "1124000727777607680000\n",
            "25852016738884976640000\n",
            "620448401733239439360000\n",
            "15511210043330985984000000\n",
            "403291461126605635584000000\n",
            "10888869450418352160768000000\n",
            "304888344611713860501504000000\n",
            "8841761993739701954543616000000\n",
            "265252859812191058636308480000000\n",
            "8222838654177922817725562880000000\n",
            "263130836933693530167218012160000000\n",
            "8683317618811886495518194401280000000\n",
            "295232799039604140847618609643520000000\n",
            "10333147966386144929666651337523200000000\n",
            "371993326789901217467999448150835200000000\n",
            "13763753091226345046315979581580902400000000\n",
            "523022617466601111760007224100074291200000000\n",
            "20397882081197443358640281739902897356800000000\n",
            "815915283247897734345611269596115894272000000000\n",
            "33452526613163807108170062053440751665152000000000\n",
            "1405006117752879898543142606244511569936384000000000\n",
            "60415263063373835637355132068513997507264512000000000\n",
            "2658271574788448768043625811014615890319638528000000000\n",
            "119622220865480194561963161495657715064383733760000000000\n",
            "5502622159812088949850305428800254892961651752960000000000\n",
            "258623241511168180642964355153611979969197632389120000000000\n",
            "12413915592536072670862289047373375038521486354677760000000000\n",
            "608281864034267560872252163321295376887552831379210240000000000\n",
            "30414093201713378043612608166064768844377641568960512000000000000\n",
            "1551118753287382280224243016469303211063259720016986112000000000000\n",
            "80658175170943878571660636856403766975289505440883277824000000000000\n",
            "4274883284060025564298013753389399649690343788366813724672000000000000\n",
            "230843697339241380472092742683027581083278564571807941132288000000000000\n",
            "12696403353658275925965100847566516959580321051449436762275840000000000000\n",
            "710998587804863451854045647463724949736497978881168458687447040000000000000\n",
            "40526919504877216755680601905432322134980384796226602145184481280000000000000\n",
            "2350561331282878571829474910515074683828862318181142924420699914240000000000000\n",
            "138683118545689835737939019720389406345902876772687432540821294940160000000000000\n",
            "8320987112741390144276341183223364380754172606361245952449277696409600000000000000\n",
            "507580213877224798800856812176625227226004528988036003099405939480985600000000000000\n",
            "31469973260387937525653122354950764088012280797258232192163168247821107200000000000000\n",
            "1982608315404440064116146708361898137544773690227268628106279599612729753600000000000000\n",
            "126886932185884164103433389335161480802865516174545192198801894375214704230400000000000000\n",
            "8247650592082470666723170306785496252186258551345437492922123134388955774976000000000000000\n",
            "544344939077443064003729240247842752644293064388798874532860126869671081148416000000000000000\n",
            "36471110918188685288249859096605464427167635314049524593701628500267962436943872000000000000000\n",
            "2480035542436830599600990418569171581047399201355367672371710738018221445712183296000000000000000\n",
            "171122452428141311372468338881272839092270544893520369393648040923257279754140647424000000000000000\n",
            "11978571669969891796072783721689098736458938142546425857555362864628009582789845319680000000000000000\n",
            "850478588567862317521167644239926010288584608120796235886430763388588680378079017697280000000000000000\n",
            "61234458376886086861524070385274672740778091784697328983823014963978384987221689274204160000000000000000\n",
            "4470115461512684340891257138125051110076800700282905015819080092370422104067183317016903680000000000000000\n",
            "330788544151938641225953028221253782145683251820934971170611926835411235700971565459250872320000000000000000\n",
            "24809140811395398091946477116594033660926243886570122837795894512655842677572867409443815424000000000000000000\n",
            "1885494701666050254987932260861146558230394535379329335672487982961844043495537923117729972224000000000000000000\n",
            "145183092028285869634070784086308284983740379224208358846781574688061991349156420080065207861248000000000000000000\n",
            "11324281178206297831457521158732046228731749579488251990048962825668835325234200766245086213177344000000000000000000\n",
            "894618213078297528685144171539831652069808216779571907213868063227837990693501860533361810841010176000000000000000000\n",
            "71569457046263802294811533723186532165584657342365752577109445058227039255480148842668944867280814080000000000000000000\n",
            "5797126020747367985879734231578109105412357244731625958745865049716390179693892056256184534249745940480000000000000000000\n",
            "475364333701284174842138206989404946643813294067993328617160934076743994734899148613007131808479167119360000000000000000000\n",
            "39455239697206586511897471180120610571436503407643446275224357528369751562996629334879591940103770870906880000000000000000000\n",
            "3314240134565353266999387579130131288000666286242049487118846032383059131291716864129885722968716753156177920000000000000000000\n",
            "281710411438055027694947944226061159480056634330574206405101912752560026159795933451040286452340924018275123200000000000000000000\n",
            "24227095383672732381765523203441259715284870552429381750838764496720162249742450276789464634901319465571660595200000000000000000000\n",
            "2107757298379527717213600518699389595229783738061356212322972511214654115727593174080683423236414793504734471782400000000000000000000\n",
            "185482642257398439114796845645546284380220968949399346684421580986889562184028199319100141244804501828416633516851200000000000000000000\n",
            "16507955160908461081216919262453619309839666236496541854913520707833171034378509739399912570787600662729080382999756800000000000000000000\n",
            "1485715964481761497309522733620825737885569961284688766942216863704985393094065876545992131370884059645617234469978112000000000000000000000\n",
            "135200152767840296255166568759495142147586866476906677791741734597153670771559994765685283954750449427751168336768008192000000000000000000000\n",
            "12438414054641307255475324325873553077577991715875414356840239582938137710983519518443046123837041347353107486982656753664000000000000000000000\n",
            "1156772507081641574759205162306240436214753229576413535186142281213246807121467315215203289516844845303838996289387078090752000000000000000000000\n",
            "108736615665674308027365285256786601004186803580182872307497374434045199869417927630229109214583415458560865651202385340530688000000000000000000000\n",
            "10329978488239059262599702099394727095397746340117372869212250571234293987594703124871765375385424468563282236864226607350415360000000000000000000000\n",
            "991677934870949689209571401541893801158183648651267795444376054838492222809091499987689476037000748982075094738965754305639874560000000000000000000000\n",
            "96192759682482119853328425949563698712343813919172976158104477319333745612481875498805879175589072651261284189679678167647067832320000000000000000000000\n",
            "9426890448883247745626185743057242473809693764078951663494238777294707070023223798882976159207729119823605850588608460429412647567360000000000000000000000\n",
            "933262154439441526816992388562667004907159682643816214685929638952175999932299156089414639761565182862536979208272237582511852109168640000000000000000000000\n",
            "93326215443944152681699238856266700490715968264381621468592963895217599993229915608941463976156518286253697920827223758251185210916864000000000000000000000000\n"
          ]
        }
      ],
      "source": [
        "result =1\n",
        "i=1\n",
        "while i<=100:\n",
        "  result=result*i\n",
        "  i=i+1\n",
        "  print(result)"
      ]
    },
    {
      "cell_type": "code",
      "execution_count": null,
      "metadata": {
        "colab": {
          "base_uri": "https://localhost:8080/"
        },
        "id": "f7mCVy8pP0W6",
        "outputId": "33493d38-a30c-455f-a1e3-90b940d09a27"
      },
      "outputs": [
        {
          "name": "stdout",
          "output_type": "stream",
          "text": [
            "*\n",
            "**\n",
            "***\n",
            "****\n",
            "*****\n",
            "******\n",
            "*******\n",
            "********\n",
            "*********\n",
            "**********\n",
            "***********\n",
            "**********\n",
            "*********\n",
            "********\n",
            "*******\n",
            "******\n",
            "*****\n",
            "****\n",
            "***\n",
            "**\n",
            "*\n"
          ]
        }
      ],
      "source": [
        "line='*'\n",
        "max_length=10\n",
        "while len(line)<=max_length:\n",
        "  print(line)\n",
        "  line +=\"*\"\n",
        "while len(line)>0:\n",
        "  print(line)\n",
        "  line=line[:-1]"
      ]
    },
    {
      "cell_type": "code",
      "execution_count": null,
      "metadata": {
        "id": "7RtA7_K1RjCl"
      },
      "outputs": [],
      "source": [
        "import pandas as pd\n",
        "import numpy as np\n",
        "file=open('/content/sample_data/california_housing_test.csv')\n",
        "content=file.read()\n",
        "file.close()\n"
      ]
    },
    {
      "cell_type": "code",
      "execution_count": null,
      "metadata": {
        "colab": {
          "base_uri": "https://localhost:8080/"
        },
        "id": "H4yrskChcX6_",
        "outputId": "0afa5816-b1e2-4ca4-8804-c984ebb80714"
      },
      "outputs": [
        {
          "data": {
            "text/plain": [
              "np.float64(1589852.0)"
            ]
          },
          "execution_count": 6,
          "metadata": {},
          "output_type": "execute_result"
        }
      ],
      "source": [
        "import pandas as pd\n",
        "contents = pd.read_csv('/content/sample_data/california_housing_test.csv')\n",
        "contents['total_bedrooms'].sum()"
      ]
    },
    {
      "cell_type": "code",
      "execution_count": null,
      "metadata": {
        "colab": {
          "base_uri": "https://localhost:8080/"
        },
        "id": "ktcVo3KgdFkp",
        "outputId": "53df8ad1-3de3-48e9-9a94-e52a49603af7"
      },
      "outputs": [
        {
          "data": {
            "text/plain": [
              "np.float64(11421.8154)"
            ]
          },
          "execution_count": 9,
          "metadata": {},
          "output_type": "execute_result"
        }
      ],
      "source": [
        "contents=pd.read_csv('/content/sample_data/california_housing_test.csv')\n",
        "contents['median_income'].sum()"
      ]
    },
    {
      "cell_type": "markdown",
      "metadata": {
        "id": "IeI4sB4odh2V"
      },
      "source": [
        "pip install pandas"
      ]
    },
    {
      "cell_type": "code",
      "execution_count": null,
      "metadata": {
        "colab": {
          "base_uri": "https://localhost:8080/"
        },
        "id": "iAPglGGFdwHt",
        "outputId": "569a3e7b-0c6b-49fd-fef4-3f62807d8866"
      },
      "outputs": [
        {
          "name": "stdout",
          "output_type": "stream",
          "text": [
            "Package                               Version\n",
            "------------------------------------- -------------------\n",
            "absl-py                               1.4.0\n",
            "accelerate                            1.8.1\n",
            "aiofiles                              24.1.0\n",
            "aiohappyeyeballs                      2.6.1\n",
            "aiohttp                               3.11.15\n",
            "aiosignal                             1.3.2\n",
            "alabaster                             1.0.0\n",
            "albucore                              0.0.24\n",
            "albumentations                        2.0.8\n",
            "ale-py                                0.11.1\n",
            "altair                                5.5.0\n",
            "annotated-types                       0.7.0\n",
            "antlr4-python3-runtime                4.9.3\n",
            "anyio                                 4.9.0\n",
            "argon2-cffi                           25.1.0\n",
            "argon2-cffi-bindings                  21.2.0\n",
            "array_record                          0.7.2\n",
            "arviz                                 0.21.0\n",
            "astropy                               7.1.0\n",
            "astropy-iers-data                     0.2025.6.23.0.39.50\n",
            "astunparse                            1.6.3\n",
            "atpublic                              5.1\n",
            "attrs                                 25.3.0\n",
            "audioread                             3.0.1\n",
            "autograd                              1.8.0\n",
            "babel                                 2.17.0\n",
            "backcall                              0.2.0\n",
            "backports.tarfile                     1.2.0\n",
            "beautifulsoup4                        4.13.4\n",
            "betterproto                           2.0.0b6\n",
            "bigframes                             2.8.0\n",
            "bigquery-magics                       0.9.0\n",
            "bleach                                6.2.0\n",
            "blinker                               1.9.0\n",
            "blis                                  1.3.0\n",
            "blobfile                              3.0.0\n",
            "blosc2                                3.5.0\n",
            "bokeh                                 3.7.3\n",
            "Bottleneck                            1.4.2\n",
            "bqplot                                0.12.45\n",
            "branca                                0.8.1\n",
            "build                                 1.2.2.post1\n",
            "CacheControl                          0.14.3\n",
            "cachetools                            5.5.2\n",
            "catalogue                             2.0.10\n",
            "certifi                               2025.6.15\n",
            "cffi                                  1.17.1\n",
            "chardet                               5.2.0\n",
            "charset-normalizer                    3.4.2\n",
            "chex                                  0.1.89\n",
            "clarabel                              0.11.1\n",
            "click                                 8.2.1\n",
            "cloudpathlib                          0.21.1\n",
            "cloudpickle                           3.1.1\n",
            "cmake                                 3.31.6\n",
            "cmdstanpy                             1.2.5\n",
            "colorcet                              3.1.0\n",
            "colorlover                            0.3.0\n",
            "colour                                0.1.5\n",
            "community                             1.0.0b1\n",
            "confection                            0.1.5\n",
            "cons                                  0.4.6\n",
            "contourpy                             1.3.2\n",
            "cramjam                               2.10.0\n",
            "cryptography                          43.0.3\n",
            "cuda-python                           12.6.2.post1\n",
            "cudf-cu12                             25.2.1\n",
            "cudf-polars-cu12                      25.2.2\n",
            "cufflinks                             0.17.3\n",
            "cuml-cu12                             25.2.1\n",
            "cupy-cuda12x                          13.3.0\n",
            "curl_cffi                             0.11.4\n",
            "cuvs-cu12                             25.2.1\n",
            "cvxopt                                1.3.2\n",
            "cvxpy                                 1.6.6\n",
            "cycler                                0.12.1\n",
            "cyipopt                               1.5.0\n",
            "cymem                                 2.0.11\n",
            "Cython                                3.0.12\n",
            "dask                                  2024.12.1\n",
            "dask-cuda                             25.2.0\n",
            "dask-cudf-cu12                        25.2.2\n",
            "dask-expr                             1.1.21\n",
            "dataproc-spark-connect                0.7.5\n",
            "datascience                           0.17.6\n",
            "datasets                              2.14.4\n",
            "db-dtypes                             1.4.3\n",
            "dbus-python                           1.2.18\n",
            "debugpy                               1.8.0\n",
            "decorator                             4.4.2\n",
            "defusedxml                            0.7.1\n",
            "diffusers                             0.34.0\n",
            "dill                                  0.3.7\n",
            "distributed                           2024.12.1\n",
            "distributed-ucxx-cu12                 0.42.0\n",
            "distro                                1.9.0\n",
            "dlib                                  19.24.6\n",
            "dm-tree                               0.1.9\n",
            "docstring_parser                      0.16\n",
            "docutils                              0.21.2\n",
            "dopamine_rl                           4.1.2\n",
            "duckdb                                1.2.2\n",
            "earthengine-api                       1.5.21\n",
            "easydict                              1.13\n",
            "editdistance                          0.8.1\n",
            "eerepr                                0.1.2\n",
            "einops                                0.8.1\n",
            "en_core_web_sm                        3.8.0\n",
            "entrypoints                           0.4\n",
            "et_xmlfile                            2.0.0\n",
            "etils                                 1.12.2\n",
            "etuples                               0.3.9\n",
            "Farama-Notifications                  0.0.4\n",
            "fastai                                2.7.19\n",
            "fastapi                               0.115.13\n",
            "fastcore                              1.7.29\n",
            "fastdownload                          0.0.7\n",
            "fastjsonschema                        2.21.1\n",
            "fastprogress                          1.0.3\n",
            "fastrlock                             0.8.3\n",
            "ffmpy                                 0.6.0\n",
            "filelock                              3.18.0\n",
            "firebase-admin                        6.9.0\n",
            "Flask                                 3.1.1\n",
            "flatbuffers                           25.2.10\n",
            "flax                                  0.10.6\n",
            "folium                                0.19.7\n",
            "fonttools                             4.58.4\n",
            "frozendict                            2.4.6\n",
            "frozenlist                            1.7.0\n",
            "fsspec                                2025.3.2\n",
            "future                                1.0.0\n",
            "gast                                  0.6.0\n",
            "gcsfs                                 2025.3.2\n",
            "GDAL                                  3.8.4\n",
            "gdown                                 5.2.0\n",
            "geemap                                0.35.3\n",
            "geocoder                              1.38.1\n",
            "geographiclib                         2.0\n",
            "geopandas                             1.0.1\n",
            "geopy                                 2.4.1\n",
            "gin-config                            0.5.0\n",
            "gitdb                                 4.0.12\n",
            "GitPython                             3.1.44\n",
            "glob2                                 0.7\n",
            "google                                2.0.3\n",
            "google-ai-generativelanguage          0.6.15\n",
            "google-api-core                       2.25.1\n",
            "google-api-python-client              2.173.0\n",
            "google-auth                           2.38.0\n",
            "google-auth-httplib2                  0.2.0\n",
            "google-auth-oauthlib                  1.2.2\n",
            "google-cloud-aiplatform               1.99.0\n",
            "google-cloud-bigquery                 3.34.0\n",
            "google-cloud-bigquery-connection      1.18.3\n",
            "google-cloud-bigquery-storage         2.32.0\n",
            "google-cloud-core                     2.4.3\n",
            "google-cloud-dataproc                 5.20.0\n",
            "google-cloud-datastore                2.21.0\n",
            "google-cloud-firestore                2.21.0\n",
            "google-cloud-functions                1.20.4\n",
            "google-cloud-iam                      2.19.1\n",
            "google-cloud-language                 2.17.2\n",
            "google-cloud-resource-manager         1.14.2\n",
            "google-cloud-spanner                  3.55.0\n",
            "google-cloud-storage                  2.19.0\n",
            "google-cloud-translate                3.20.3\n",
            "google-colab                          1.0.0\n",
            "google-crc32c                         1.7.1\n",
            "google-genai                          1.21.1\n",
            "google-generativeai                   0.8.5\n",
            "google-pasta                          0.2.0\n",
            "google-resumable-media                2.7.2\n",
            "googleapis-common-protos              1.70.0\n",
            "googledrivedownloader                 1.1.0\n",
            "gradio                                5.31.0\n",
            "gradio_client                         1.10.1\n",
            "graphviz                              0.21\n",
            "greenlet                              3.2.3\n",
            "groovy                                0.1.2\n",
            "grpc-google-iam-v1                    0.14.2\n",
            "grpc-interceptor                      0.15.4\n",
            "grpcio                                1.73.0\n",
            "grpcio-status                         1.71.0\n",
            "grpclib                               0.4.8\n",
            "gspread                               6.2.1\n",
            "gspread-dataframe                     4.0.0\n",
            "gym                                   0.25.2\n",
            "gym-notices                           0.0.8\n",
            "gymnasium                             1.1.1\n",
            "h11                                   0.16.0\n",
            "h2                                    4.2.0\n",
            "h5netcdf                              1.6.1\n",
            "h5py                                  3.14.0\n",
            "hdbscan                               0.8.40\n",
            "hf_transfer                           0.1.9\n",
            "hf-xet                                1.1.5\n",
            "highspy                               1.11.0\n",
            "holidays                              0.75\n",
            "holoviews                             1.20.2\n",
            "hpack                                 4.1.0\n",
            "html5lib                              1.1\n",
            "httpcore                              1.0.9\n",
            "httpimport                            1.4.1\n",
            "httplib2                              0.22.0\n",
            "httpx                                 0.28.1\n",
            "huggingface-hub                       0.33.0\n",
            "humanize                              4.12.3\n",
            "hyperframe                            6.1.0\n",
            "hyperopt                              0.2.7\n",
            "ibis-framework                        9.5.0\n",
            "idna                                  3.10\n",
            "imageio                               2.37.0\n",
            "imageio-ffmpeg                        0.6.0\n",
            "imagesize                             1.4.1\n",
            "imbalanced-learn                      0.13.0\n",
            "immutabledict                         4.2.1\n",
            "importlib_metadata                    8.7.0\n",
            "importlib_resources                   6.5.2\n",
            "imutils                               0.5.4\n",
            "inflect                               7.5.0\n",
            "iniconfig                             2.1.0\n",
            "intel-cmplr-lib-ur                    2025.2.0\n",
            "intel-openmp                          2025.2.0\n",
            "ipyevents                             2.0.2\n",
            "ipyfilechooser                        0.6.0\n",
            "ipykernel                             6.17.1\n",
            "ipyleaflet                            0.20.0\n",
            "ipyparallel                           8.8.0\n",
            "ipython                               7.34.0\n",
            "ipython-genutils                      0.2.0\n",
            "ipython-sql                           0.5.0\n",
            "ipytree                               0.2.2\n",
            "ipywidgets                            7.7.1\n",
            "itsdangerous                          2.2.0\n",
            "jaraco.classes                        3.4.0\n",
            "jaraco.context                        6.0.1\n",
            "jaraco.functools                      4.2.1\n",
            "jax                                   0.5.2\n",
            "jax-cuda12-pjrt                       0.5.1\n",
            "jax-cuda12-plugin                     0.5.1\n",
            "jaxlib                                0.5.1\n",
            "jeepney                               0.9.0\n",
            "jieba                                 0.42.1\n",
            "Jinja2                                3.1.6\n",
            "jiter                                 0.10.0\n",
            "joblib                                1.5.1\n",
            "jsonpatch                             1.33\n",
            "jsonpickle                            4.1.1\n",
            "jsonpointer                           3.0.0\n",
            "jsonschema                            4.24.0\n",
            "jsonschema-specifications             2025.4.1\n",
            "jupyter-client                        6.1.12\n",
            "jupyter-console                       6.1.0\n",
            "jupyter_core                          5.8.1\n",
            "jupyter_kernel_gateway                2.5.2\n",
            "jupyter-leaflet                       0.20.0\n",
            "jupyter-server                        1.16.0\n",
            "jupyterlab_pygments                   0.3.0\n",
            "jupyterlab_widgets                    3.0.15\n",
            "jupytext                              1.17.2\n",
            "kaggle                                1.7.4.5\n",
            "kagglehub                             0.3.12\n",
            "keras                                 3.8.0\n",
            "keras-hub                             0.18.1\n",
            "keras-nlp                             0.18.1\n",
            "keyring                               25.6.0\n",
            "keyrings.google-artifactregistry-auth 1.1.2\n",
            "kiwisolver                            1.4.8\n",
            "langchain                             0.3.26\n",
            "langchain-core                        0.3.66\n",
            "langchain-text-splitters              0.3.8\n",
            "langcodes                             3.5.0\n",
            "langsmith                             0.4.1\n",
            "language_data                         1.3.0\n",
            "launchpadlib                          1.10.16\n",
            "lazr.restfulclient                    0.14.4\n",
            "lazr.uri                              1.0.6\n",
            "lazy_loader                           0.4\n",
            "libclang                              18.1.1\n",
            "libcudf-cu12                          25.2.1\n",
            "libcugraph-cu12                       25.2.0\n",
            "libcuml-cu12                          25.2.1\n",
            "libcuvs-cu12                          25.2.1\n",
            "libkvikio-cu12                        25.2.1\n",
            "libpysal                              4.13.0\n",
            "libraft-cu12                          25.2.0\n",
            "librosa                               0.11.0\n",
            "libucx-cu12                           1.18.1\n",
            "libucxx-cu12                          0.42.0\n",
            "lightgbm                              4.5.0\n",
            "linkify-it-py                         2.0.3\n",
            "llvmlite                              0.43.0\n",
            "locket                                1.0.0\n",
            "logical-unification                   0.4.6\n",
            "lxml                                  5.4.0\n",
            "Mako                                  1.1.3\n",
            "marisa-trie                           1.2.1\n",
            "Markdown                              3.8.2\n",
            "markdown-it-py                        3.0.0\n",
            "MarkupSafe                            3.0.2\n",
            "matplotlib                            3.10.0\n",
            "matplotlib-inline                     0.1.7\n",
            "matplotlib-venn                       1.1.2\n",
            "mdit-py-plugins                       0.4.2\n",
            "mdurl                                 0.1.2\n",
            "miniKanren                            1.0.3\n",
            "missingno                             0.5.2\n",
            "mistune                               3.1.3\n",
            "mizani                                0.13.5\n",
            "mkl                                   2025.0.1\n",
            "ml-dtypes                             0.4.1\n",
            "mlxtend                               0.23.4\n",
            "more-itertools                        10.7.0\n",
            "moviepy                               1.0.3\n",
            "mpmath                                1.3.0\n",
            "msgpack                               1.1.1\n",
            "multidict                             6.4.4\n",
            "multipledispatch                      1.0.0\n",
            "multiprocess                          0.70.15\n",
            "multitasking                          0.0.11\n",
            "murmurhash                            1.0.13\n",
            "music21                               9.3.0\n",
            "namex                                 0.1.0\n",
            "narwhals                              1.44.0\n",
            "natsort                               8.4.0\n",
            "nbclassic                             1.3.1\n",
            "nbclient                              0.10.2\n",
            "nbconvert                             7.16.6\n",
            "nbformat                              5.10.4\n",
            "ndindex                               1.10.0\n",
            "nest-asyncio                          1.6.0\n",
            "networkx                              3.5\n",
            "nibabel                               5.3.2\n",
            "nltk                                  3.9.1\n",
            "notebook                              6.5.7\n",
            "notebook_shim                         0.2.4\n",
            "numba                                 0.60.0\n",
            "numba-cuda                            0.2.0\n",
            "numexpr                               2.11.0\n",
            "numpy                                 2.0.2\n",
            "nvidia-cublas-cu12                    12.5.3.2\n",
            "nvidia-cuda-cupti-cu12                12.5.82\n",
            "nvidia-cuda-nvcc-cu12                 12.5.82\n",
            "nvidia-cuda-nvrtc-cu12                12.5.82\n",
            "nvidia-cuda-runtime-cu12              12.5.82\n",
            "nvidia-cudnn-cu12                     9.3.0.75\n",
            "nvidia-cufft-cu12                     11.2.3.61\n",
            "nvidia-curand-cu12                    10.3.6.82\n",
            "nvidia-cusolver-cu12                  11.6.3.83\n",
            "nvidia-cusparse-cu12                  12.5.1.3\n",
            "nvidia-cusparselt-cu12                0.6.2\n",
            "nvidia-ml-py                          12.575.51\n",
            "nvidia-nccl-cu12                      2.21.5\n",
            "nvidia-nvcomp-cu12                    4.2.0.11\n",
            "nvidia-nvjitlink-cu12                 12.5.82\n",
            "nvidia-nvtx-cu12                      12.4.127\n",
            "nvtx                                  0.2.12\n",
            "nx-cugraph-cu12                       25.2.0\n",
            "oauth2client                          4.1.3\n",
            "oauthlib                              3.3.1\n",
            "omegaconf                             2.3.0\n",
            "openai                                1.91.0\n",
            "opencv-contrib-python                 4.11.0.86\n",
            "opencv-python                         4.11.0.86\n",
            "opencv-python-headless                4.11.0.86\n",
            "openpyxl                              3.1.5\n",
            "opt_einsum                            3.4.0\n",
            "optax                                 0.2.5\n",
            "optree                                0.16.0\n",
            "orbax-checkpoint                      0.11.16\n",
            "orjson                                3.10.18\n",
            "osqp                                  1.0.4\n",
            "packaging                             24.2\n",
            "pandas                                2.2.2\n",
            "pandas-datareader                     0.10.0\n",
            "pandas-gbq                            0.29.1\n",
            "pandas-stubs                          2.2.2.240909\n",
            "pandocfilters                         1.5.1\n",
            "panel                                 1.7.1\n",
            "param                                 2.2.1\n",
            "parso                                 0.8.4\n",
            "parsy                                 2.1\n",
            "partd                                 1.4.2\n",
            "pathlib                               1.0.1\n",
            "patsy                                 1.0.1\n",
            "peewee                                3.18.1\n",
            "peft                                  0.15.2\n",
            "pexpect                               4.9.0\n",
            "pickleshare                           0.7.5\n",
            "pillow                                11.2.1\n",
            "pip                                   24.1.2\n",
            "platformdirs                          4.3.8\n",
            "plotly                                5.24.1\n",
            "plotnine                              0.14.5\n",
            "pluggy                                1.6.0\n",
            "ply                                   3.11\n",
            "polars                                1.21.0\n",
            "pooch                                 1.8.2\n",
            "portpicker                            1.5.2\n",
            "preshed                               3.0.10\n",
            "prettytable                           3.16.0\n",
            "proglog                               0.1.12\n",
            "progressbar2                          4.5.0\n",
            "prometheus_client                     0.22.1\n",
            "promise                               2.3\n",
            "prompt_toolkit                        3.0.51\n",
            "propcache                             0.3.2\n",
            "prophet                               1.1.7\n",
            "proto-plus                            1.26.1\n",
            "protobuf                              5.29.5\n",
            "psutil                                5.9.5\n",
            "psycopg2                              2.9.10\n",
            "ptyprocess                            0.7.0\n",
            "py-cpuinfo                            9.0.0\n",
            "py4j                                  0.10.9.7\n",
            "pyarrow                               18.1.0\n",
            "pyasn1                                0.6.1\n",
            "pyasn1_modules                        0.4.2\n",
            "pycairo                               1.28.0\n",
            "pycocotools                           2.0.10\n",
            "pycparser                             2.22\n",
            "pycryptodomex                         3.23.0\n",
            "pydantic                              2.11.7\n",
            "pydantic_core                         2.33.2\n",
            "pydata-google-auth                    1.9.1\n",
            "pydot                                 3.0.4\n",
            "pydotplus                             2.0.2\n",
            "PyDrive                               1.3.1\n",
            "PyDrive2                              1.21.3\n",
            "pydub                                 0.25.1\n",
            "pyerfa                                2.0.1.5\n",
            "pygame                                2.6.1\n",
            "pygit2                                1.18.0\n",
            "Pygments                              2.19.2\n",
            "PyGObject                             3.42.0\n",
            "PyJWT                                 2.10.1\n",
            "pylibcudf-cu12                        25.2.1\n",
            "pylibcugraph-cu12                     25.2.0\n",
            "pylibraft-cu12                        25.2.0\n",
            "pymc                                  5.23.0\n",
            "pymystem3                             0.2.0\n",
            "pynndescent                           0.5.13\n",
            "pynvjitlink-cu12                      0.6.0\n",
            "pynvml                                12.0.0\n",
            "pyogrio                               0.11.0\n",
            "pyomo                                 6.9.2\n",
            "PyOpenGL                              3.1.9\n",
            "pyOpenSSL                             24.2.1\n",
            "pyparsing                             3.2.3\n",
            "pyperclip                             1.9.0\n",
            "pyproj                                3.7.1\n",
            "pyproject_hooks                       1.2.0\n",
            "pyshp                                 2.3.1\n",
            "PySocks                               1.7.1\n",
            "pyspark                               3.5.1\n",
            "pytensor                              2.31.4\n",
            "pytest                                8.3.5\n",
            "python-apt                            0.0.0\n",
            "python-box                            7.3.2\n",
            "python-dateutil                       2.9.0.post0\n",
            "python-louvain                        0.16\n",
            "python-multipart                      0.0.20\n",
            "python-slugify                        8.0.4\n",
            "python-snappy                         0.7.3\n",
            "python-utils                          3.9.1\n",
            "pytz                                  2025.2\n",
            "pyviz_comms                           3.0.6\n",
            "PyWavelets                            1.8.0\n",
            "PyYAML                                6.0.2\n",
            "pyzmq                                 24.0.1\n",
            "raft-dask-cu12                        25.2.0\n",
            "rapids-dask-dependency                25.2.0\n",
            "ratelim                               0.1.6\n",
            "referencing                           0.36.2\n",
            "regex                                 2024.11.6\n",
            "requests                              2.32.3\n",
            "requests-oauthlib                     2.0.0\n",
            "requests-toolbelt                     1.0.0\n",
            "requirements-parser                   0.9.0\n",
            "rich                                  13.9.4\n",
            "rmm-cu12                              25.2.0\n",
            "roman-numerals-py                     3.1.0\n",
            "rpds-py                               0.25.1\n",
            "rpy2                                  3.5.17\n",
            "rsa                                   4.9.1\n",
            "ruff                                  0.12.0\n",
            "safehttpx                             0.1.6\n",
            "safetensors                           0.5.3\n",
            "scikit-image                          0.25.2\n",
            "scikit-learn                          1.6.1\n",
            "scipy                                 1.15.3\n",
            "scooby                                0.10.1\n",
            "scs                                   3.2.7.post2\n",
            "seaborn                               0.13.2\n",
            "SecretStorage                         3.3.3\n",
            "semantic-version                      2.10.0\n",
            "Send2Trash                            1.8.3\n",
            "sentence-transformers                 4.1.0\n",
            "sentencepiece                         0.2.0\n",
            "sentry-sdk                            2.31.0\n",
            "setproctitle                          1.3.6\n",
            "setuptools                            75.2.0\n",
            "shap                                  0.48.0\n",
            "shapely                               2.1.1\n",
            "shellingham                           1.5.4\n",
            "simple-parsing                        0.1.7\n",
            "simplejson                            3.20.1\n",
            "simsimd                               6.4.9\n",
            "six                                   1.17.0\n",
            "sklearn-compat                        0.1.3\n",
            "sklearn-pandas                        2.2.0\n",
            "slicer                                0.0.8\n",
            "smart-open                            7.1.0\n",
            "smmap                                 5.0.2\n",
            "sniffio                               1.3.1\n",
            "snowballstemmer                       3.0.1\n",
            "sortedcontainers                      2.4.0\n",
            "soundfile                             0.13.1\n",
            "soupsieve                             2.7\n",
            "soxr                                  0.5.0.post1\n",
            "spacy                                 3.8.7\n",
            "spacy-legacy                          3.0.12\n",
            "spacy-loggers                         1.0.5\n",
            "spanner-graph-notebook                1.1.7\n",
            "Sphinx                                8.2.3\n",
            "sphinxcontrib-applehelp               2.0.0\n",
            "sphinxcontrib-devhelp                 2.0.0\n",
            "sphinxcontrib-htmlhelp                2.1.0\n",
            "sphinxcontrib-jsmath                  1.0.1\n",
            "sphinxcontrib-qthelp                  2.0.0\n",
            "sphinxcontrib-serializinghtml         2.0.0\n",
            "SQLAlchemy                            2.0.41\n",
            "sqlglot                               25.20.2\n",
            "sqlparse                              0.5.3\n",
            "srsly                                 2.5.1\n",
            "stanio                                0.5.1\n",
            "starlette                             0.46.2\n",
            "statsmodels                           0.14.4\n",
            "stringzilla                           3.12.5\n",
            "stumpy                                1.13.0\n",
            "sympy                                 1.13.1\n",
            "tables                                3.10.2\n",
            "tabulate                              0.9.0\n",
            "tbb                                   2022.2.0\n",
            "tblib                                 3.1.0\n",
            "tcmlib                                1.4.0\n",
            "tenacity                              8.5.0\n",
            "tensorboard                           2.18.0\n",
            "tensorboard-data-server               0.7.2\n",
            "tensorflow                            2.18.0\n",
            "tensorflow-datasets                   4.9.9\n",
            "tensorflow_decision_forests           1.11.0\n",
            "tensorflow-hub                        0.16.1\n",
            "tensorflow-io-gcs-filesystem          0.37.1\n",
            "tensorflow-metadata                   1.17.2\n",
            "tensorflow-probability                0.25.0\n",
            "tensorflow-text                       2.18.1\n",
            "tensorstore                           0.1.74\n",
            "termcolor                             3.1.0\n",
            "terminado                             0.18.1\n",
            "text-unidecode                        1.3\n",
            "textblob                              0.19.0\n",
            "tf_keras                              2.18.0\n",
            "tf-slim                               1.1.0\n",
            "thinc                                 8.3.6\n",
            "threadpoolctl                         3.6.0\n",
            "tifffile                              2025.6.11\n",
            "tiktoken                              0.9.0\n",
            "timm                                  1.0.15\n",
            "tinycss2                              1.4.0\n",
            "tokenizers                            0.21.2\n",
            "toml                                  0.10.2\n",
            "tomlkit                               0.13.3\n",
            "toolz                                 0.12.1\n",
            "torch                                 2.6.0+cu124\n",
            "torchao                               0.10.0\n",
            "torchaudio                            2.6.0+cu124\n",
            "torchdata                             0.11.0\n",
            "torchsummary                          1.5.1\n",
            "torchtune                             0.6.1\n",
            "torchvision                           0.21.0+cu124\n",
            "tornado                               6.4.2\n",
            "tqdm                                  4.67.1\n",
            "traitlets                             5.7.1\n",
            "traittypes                            0.2.1\n",
            "transformers                          4.52.4\n",
            "treelite                              4.4.1\n",
            "treescope                             0.1.9\n",
            "triton                                3.2.0\n",
            "tsfresh                               0.21.0\n",
            "tweepy                                4.15.0\n",
            "typeguard                             4.4.4\n",
            "typer                                 0.16.0\n",
            "types-pytz                            2025.2.0.20250516\n",
            "types-setuptools                      80.9.0.20250529\n",
            "typing_extensions                     4.14.0\n",
            "typing-inspection                     0.4.1\n",
            "tzdata                                2025.2\n",
            "tzlocal                               5.3.1\n",
            "uc-micro-py                           1.0.3\n",
            "ucx-py-cu12                           0.42.0\n",
            "ucxx-cu12                             0.42.0\n",
            "umap-learn                            0.5.7\n",
            "umf                                   0.11.0\n",
            "uritemplate                           4.2.0\n",
            "urllib3                               2.4.0\n",
            "uvicorn                               0.34.3\n",
            "vega-datasets                         0.9.0\n",
            "wadllib                               1.3.6\n",
            "wandb                                 0.20.1\n",
            "wasabi                                1.1.3\n",
            "wcwidth                               0.2.13\n",
            "weasel                                0.4.1\n",
            "webcolors                             24.11.1\n",
            "webencodings                          0.5.1\n",
            "websocket-client                      1.8.0\n",
            "websockets                            15.0.1\n",
            "Werkzeug                              3.1.3\n",
            "wheel                                 0.45.1\n",
            "widgetsnbextension                    3.6.10\n",
            "wordcloud                             1.9.4\n",
            "wrapt                                 1.17.2\n",
            "wurlitzer                             3.1.1\n",
            "xarray                                2025.3.1\n",
            "xarray-einstats                       0.9.1\n",
            "xgboost                               2.1.4\n",
            "xlrd                                  2.0.2\n",
            "xxhash                                3.5.0\n",
            "xyzservices                           2025.4.0\n",
            "yarl                                  1.20.1\n",
            "ydf                                   0.12.0\n",
            "yellowbrick                           1.5\n",
            "yfinance                              0.2.63\n",
            "zict                                  3.0.0\n",
            "zipp                                  3.23.0\n",
            "zstandard                             0.23.0\n"
          ]
        }
      ],
      "source": [
        "!pip list"
      ]
    },
    {
      "cell_type": "code",
      "execution_count": null,
      "metadata": {
        "colab": {
          "base_uri": "https://localhost:8080/"
        },
        "id": "CYH_90Pjfqwc",
        "outputId": "c67dcb86-e055-4bb2-ec48-939e89c6a269"
      },
      "outputs": [
        {
          "name": "stdout",
          "output_type": "stream",
          "text": [
            "0    10\n",
            "1    20\n",
            "2    30\n",
            "3    40\n",
            "4    50\n",
            "dtype: int64\n"
          ]
        }
      ],
      "source": [
        "s=pd.Series([10,20,30,40,50])\n",
        "print(s)"
      ]
    },
    {
      "cell_type": "code",
      "execution_count": null,
      "metadata": {
        "colab": {
          "base_uri": "https://localhost:8080/"
        },
        "id": "2csOdMHjnu61",
        "outputId": "4165148b-0141-44ff-9ce6-12a8180ba277"
      },
      "outputs": [
        {
          "data": {
            "text/plain": [
              "array([10, 20, 30, 40, 50])"
            ]
          },
          "execution_count": 16,
          "metadata": {},
          "output_type": "execute_result"
        }
      ],
      "source": [
        "s.values"
      ]
    },
    {
      "cell_type": "code",
      "execution_count": null,
      "metadata": {
        "colab": {
          "base_uri": "https://localhost:8080/"
        },
        "id": "uewMdfZunzJ6",
        "outputId": "973ce07d-f323-4a99-f827-78b214dc9404"
      },
      "outputs": [
        {
          "data": {
            "text/plain": [
              "RangeIndex(start=0, stop=5, step=1)"
            ]
          },
          "execution_count": 17,
          "metadata": {},
          "output_type": "execute_result"
        }
      ],
      "source": [
        "s.index"
      ]
    },
    {
      "cell_type": "code",
      "execution_count": null,
      "metadata": {
        "id": "1t0GEINEoRpY"
      },
      "outputs": [],
      "source": [
        "s.name=\"number\""
      ]
    },
    {
      "cell_type": "markdown",
      "metadata": {
        "id": "SzSShYt6oV8_"
      },
      "source": [
        "s"
      ]
    },
    {
      "cell_type": "code",
      "execution_count": null,
      "metadata": {
        "id": "_HFJ9CnTrBTI"
      },
      "outputs": [],
      "source": [
        "index=[\"apple\",\"banana\",\"orange\",\"graps\"]\n"
      ]
    },
    {
      "cell_type": "code",
      "execution_count": null,
      "metadata": {
        "colab": {
          "base_uri": "https://localhost:8080/"
        },
        "id": "NjihZd0urPZY",
        "outputId": "786aca2a-769e-449a-a010-d38eee41b83e"
      },
      "outputs": [
        {
          "data": {
            "text/plain": [
              "RangeIndex(start=0, stop=5, step=1)"
            ]
          },
          "execution_count": 24,
          "metadata": {},
          "output_type": "execute_result"
        }
      ],
      "source": [
        "s.index"
      ]
    },
    {
      "cell_type": "code",
      "execution_count": null,
      "metadata": {
        "colab": {
          "base_uri": "https://localhost:8080/"
        },
        "id": "KTB3st9grlCM",
        "outputId": "ea69d494-69b8-4dfa-b0e3-bd250f443047"
      },
      "outputs": [
        {
          "data": {
            "text/plain": [
              "np.int64(10)"
            ]
          },
          "execution_count": 25,
          "metadata": {},
          "output_type": "execute_result"
        }
      ],
      "source": [
        "s.iloc[0]"
      ]
    },
    {
      "cell_type": "code",
      "execution_count": null,
      "metadata": {
        "colab": {
          "base_uri": "https://localhost:8080/"
        },
        "id": "6j3J3MXPrpb3",
        "outputId": "1c2fceb3-8e2e-411e-f0d8-65cd37e649b0"
      },
      "outputs": [
        {
          "name": "stdout",
          "output_type": "stream",
          "text": [
            "  student  rank  marks\n",
            "0    amit     1     90\n",
            "1    john     2     70\n",
            "2   jacob     3     80\n",
            "3   steve     4     60\n"
          ]
        }
      ],
      "source": [
        "import pandas as pd\n",
        "#dataset\n",
        "data = {\n",
        "    'student':[\"amit\",\"john\",\"jacob\",\"steve\"],\n",
        "    'rank':[1,2,3,4],\n",
        "    'marks':[90,70,80,60]\n",
        "}\n",
        "\n",
        "df= pd.DataFrame(data)\n",
        "\n",
        "print(df)"
      ]
    },
    {
      "cell_type": "code",
      "execution_count": null,
      "metadata": {
        "colab": {
          "base_uri": "https://localhost:8080/"
        },
        "id": "VrUi6FmXaoQ7",
        "outputId": "9e69d368-3def-4f16-cc1e-dc4758ecfec1"
      },
      "outputs": [
        {
          "name": "stdout",
          "output_type": "stream",
          "text": [
            "     student  rank  marks\n",
            "rowA    amit     1     90\n",
            "rowB    john     2     70\n",
            "rowC   jacob     3     80\n",
            "rowD   steve     4     60\n",
            "\n",
            "Value = amit\n"
          ]
        }
      ],
      "source": [
        "import pandas as pd\n",
        "#dataset\n",
        "data = {\n",
        "    'student':[\"amit\",\"john\",\"jacob\",\"steve\"],\n",
        "    'rank':[1,2,3,4],\n",
        "    'marks':[90,70,80,60]\n",
        "}\n",
        "\n",
        "df= pd.DataFrame(data,index=['rowA','rowB','rowC','rowD'])\n",
        "\n",
        "print(df)\n",
        "print(\"\\nValue =\",df.loc['rowA','student'])"
      ]
    },
    {
      "cell_type": "code",
      "execution_count": null,
      "metadata": {
        "colab": {
          "base_uri": "https://localhost:8080/"
        },
        "id": "PEIC_TrRhM7y",
        "outputId": "f7a0c10f-86e3-4eea-f989-f0d282d45542"
      },
      "outputs": [
        {
          "name": "stdout",
          "output_type": "stream",
          "text": [
            "     student  rank  marks\n",
            "rowA    amit     1     90\n",
            "rowB    john     2     70\n",
            "rowC   jacob     3     80\n",
            "rowD   steve     4     60\n",
            "\n",
            "Value =\n",
            "      student  rank  marks\n",
            "rowB    john     2     70\n",
            "rowC   jacob     3     80\n"
          ]
        }
      ],
      "source": [
        "import pandas as pd\n",
        "#dataset\n",
        "data = {\n",
        "    'student':[\"amit\",\"john\",\"jacob\",\"steve\"],\n",
        "    'rank':[1,2,3,4],\n",
        "    'marks':[90,70,80,60]\n",
        "}\n",
        "\n",
        "df= pd.DataFrame(data,index=['rowA','rowB','rowC','rowD'])\n",
        "\n",
        "print(df)\n",
        "print(\"\\nValue =\\n\",df.iloc[[1,2]])\n"
      ]
    },
    {
      "cell_type": "code",
      "execution_count": null,
      "metadata": {
        "colab": {
          "base_uri": "https://localhost:8080/"
        },
        "id": "wrBwmz0ThQiX",
        "outputId": "a3d356d6-fe0c-4564-899f-b26a2ef39f83"
      },
      "outputs": [
        {
          "name": "stdout",
          "output_type": "stream",
          "text": [
            "student record\n",
            "\n",
            "          student  rank  marks\n",
            "student1  ashwin     1    100\n",
            "student2   kumar     2     90\n",
            "student3     sam     3     80\n",
            "student4     don     4     70\n"
          ]
        }
      ],
      "source": [
        "data={\n",
        "    'student':['ashwin','kumar','sam','don'],\n",
        "    'rank':[1,2,3,4],\n",
        "    'marks':[100,90,80,70]\n",
        "}\n",
        "df=pd.DataFrame(data,index=['student1','student2','student3','student4'])\n",
        "print(\"student record\\n\\n\",df)"
      ]
    },
    {
      "cell_type": "code",
      "execution_count": null,
      "metadata": {
        "colab": {
          "base_uri": "https://localhost:8080/"
        },
        "id": "QLtPwQm6i6sp",
        "outputId": "6f89ecba-7a1d-49f7-f770-359a9b52caad"
      },
      "outputs": [
        {
          "name": "stdout",
          "output_type": "stream",
          "text": [
            "student record\n",
            "\n",
            "          student  rank  marks\n",
            "student1  ashwin     1    100\n",
            "student2   kumar     2     90\n",
            "student3     sam     3     80\n",
            "student4     don     4     70\n",
            "\n",
            " display the column\n",
            "student\n",
            "rank\n",
            "marks\n"
          ]
        }
      ],
      "source": [
        "data={\n",
        "    'student':['ashwin','kumar','sam','don'],\n",
        "    'rank':[1,2,3,4],\n",
        "    'marks':[100,90,80,70]\n",
        "}\n",
        "df=pd.DataFrame(data,index=['student1','student2','student3','student4'])\n",
        "print(\"student record\\n\\n\",df)\n",
        "#iterating\n",
        "print(\"\\n display the column\")\n",
        "for col in df:\n",
        "  print(col)"
      ]
    },
    {
      "cell_type": "code",
      "execution_count": null,
      "metadata": {
        "colab": {
          "base_uri": "https://localhost:8080/"
        },
        "id": "zdu5WjF_J8NZ",
        "outputId": "3ac1dbb1-5ecf-451e-d561-ea1cc1741c5f"
      },
      "outputs": [
        {
          "name": "stdout",
          "output_type": "stream",
          "text": [
            "student record\n",
            "\n",
            "          student  rank  marks\n",
            "student1  ashwin     1    100\n",
            "student2   kumar     2     90\n",
            "student3     sam     3     80\n",
            "student4     don     4     70\n",
            "student record datatype:\n",
            " student    object\n",
            "rank        int64\n",
            "marks       int64\n",
            "dtype: object\n"
          ]
        }
      ],
      "source": [
        "import pandas as pd\n",
        "data={\n",
        "    'student':['ashwin','kumar','sam','don'],\n",
        "    'rank':[1,2,3,4],\n",
        "    'marks':[100,90,80,70]\n",
        "}\n",
        "df=pd.DataFrame(data,index=['student1','student2','student3','student4'],)\n",
        "print(\"student record\\n\\n\",df)\n",
        "print(\"student record datatype:\\n\",df.dtypes)"
      ]
    },
    {
      "cell_type": "code",
      "execution_count": null,
      "metadata": {
        "colab": {
          "base_uri": "https://localhost:8080/"
        },
        "id": "6DPE4CTHKw35",
        "outputId": "d1d688fb-fe3d-4bb4-f96b-8211651977f5"
      },
      "outputs": [
        {
          "name": "stdout",
          "output_type": "stream",
          "text": [
            "student record\n",
            "\n",
            "          student  rank  marks\n",
            "student1  ashwin     1    100\n",
            "student2   kumar     2     90\n",
            "student3     sam     3     80\n",
            "student4     don     4     70\n",
            "\n",
            " number of dim:\n",
            " 2\n",
            "\n",
            " no of element:\n",
            " 12\n",
            "\n",
            " dimension:\n",
            " (4, 3)\n",
            "\n",
            " index: Index(['student1', 'student2', 'student3', 'student4'], dtype='object')\n",
            "\n",
            " transpose:         student1 student2 student3 student4\n",
            "student   ashwin    kumar      sam      don\n",
            "rank           1        2        3        4\n",
            "marks        100       90       80       70\n",
            "\n",
            " first row          student  rank  marks\n",
            "student1  ashwin     1    100\n",
            "\n",
            " last n row:          student  rank  marks\n",
            "student2   kumar     2     90\n",
            "student3     sam     3     80\n",
            "student4     don     4     70\n"
          ]
        }
      ],
      "source": [
        "data={\n",
        "    'student':['ashwin','kumar','sam','don'],\n",
        "    'rank':[1,2,3,4],\n",
        "    'marks':[100,90,80,70]\n",
        "}\n",
        "df=pd.DataFrame(data,index=['student1','student2','student3','student4'])\n",
        "print(\"student record\\n\\n\",df)\n",
        "print(\"\\n number of dim:\\n\",df.ndim)\n",
        "print(\"\\n no of element:\\n\",df.size)\n",
        "print(\"\\n dimension:\\n\",df.shape)\n",
        "print(\"\\n index:\",df.index)\n",
        "print(\"\\n transpose:\",df.T)\n",
        "print(\"\\n first row\",df.head(1))\n",
        "print(\"\\n last n row:\",df.tail(3))"
      ]
    },
    {
      "cell_type": "code",
      "execution_count": null,
      "metadata": {
        "colab": {
          "base_uri": "https://localhost:8080/"
        },
        "id": "CP44yO7xSrD1",
        "outputId": "b57588fd-6fb1-4fca-e90f-cb6b2a7851dc"
      },
      "outputs": [
        {
          "name": "stdout",
          "output_type": "stream",
          "text": [
            "\n",
            " dataframe1=\n",
            "     id   student  roll\n",
            "0  s01    maaran   101\n",
            "1  s02     madhi   102\n",
            "2  s03  kannappa   103\n",
            "3  s04    ashwin   104\n",
            "4  s05       don   105\n",
            "\n",
            " dataframe2=\n",
            "    rank  mark\n",
            "0     1    95\n",
            "1     4    70\n",
            "2     3    80\n",
            "3     5    60\n",
            "4     2    90\n",
            "\n",
            " join two dataframe\n",
            "     id   student  roll  rank  mark\n",
            "0  s01    maaran   101     1    95\n",
            "1  s02     madhi   102     4    70\n",
            "2  s03  kannappa   103     3    80\n",
            "3  s04    ashwin   104     5    60\n",
            "4  s05       don   105     2    90\n"
          ]
        }
      ],
      "source": [
        "data1={\n",
        "     'id':[\"s01\",\"s02\",\"s03\",\"s04\",\"s05\"],\n",
        "     'student':['maaran','madhi','kannappa','ashwin','don'],\n",
        "     'roll':[101,102,103,104,105]\n",
        "}\n",
        "data2={\n",
        "      'rank':[1,4,3,5,2],\n",
        "      'mark':[95,70,80,60,90]\n",
        "}\n",
        "df1=pd.DataFrame(data1)\n",
        "print(\"\\n dataframe1=\\n\",df1)\n",
        "df2=pd.DataFrame(data2)\n",
        "print(\"\\n dataframe2=\\n\",df2)\n",
        "#two dataframe join\n",
        "resdf=df1.join(df2)\n",
        "print(\"\\n join two dataframe\\n\",resdf)"
      ]
    },
    {
      "cell_type": "code",
      "execution_count": null,
      "metadata": {
        "colab": {
          "base_uri": "https://localhost:8080/"
        },
        "id": "-ImVK48tXv6D",
        "outputId": "ac39f26f-26d3-4a37-c680-6aed934dbe20"
      },
      "outputs": [
        {
          "name": "stdout",
          "output_type": "stream",
          "text": [
            "\n",
            " datafrane1=\n",
            "            id   student  roll\n",
            "student1  s01    maaran   101\n",
            "student2  s02     madhi   102\n",
            "student3  s03  kannappa   103\n",
            "student4  s04    ashwin   104\n",
            "student5  s05       don   105\n",
            "\n",
            " dataframe2=\n",
            "            id student  roll\n",
            "student6  s06  murali   106\n",
            "student7  s07   vijay   107\n",
            "\n",
            " concatination dataframe=\n",
            "            id   student  roll\n",
            "student1  s01    maaran   101\n",
            "student2  s02     madhi   102\n",
            "student3  s03  kannappa   103\n",
            "student4  s04    ashwin   104\n",
            "student5  s05       don   105\n",
            "student6  s06    murali   106\n",
            "student7  s07     vijay   107\n"
          ]
        }
      ],
      "source": [
        "data1={\n",
        "     'id':[\"s01\",\"s02\",\"s03\",\"s04\",\"s05\"],\n",
        "     'student':['maaran','madhi','kannappa','ashwin','don'],\n",
        "     'roll':[101,102,103,104,105]\n",
        "}\n",
        "data2={\n",
        "    'id':[\"s06\",\"s07\"],\n",
        "    'student':['murali','vijay'],\n",
        "    'roll':[106,107]\n",
        "}\n",
        "df1=pd.DataFrame(data1,index=[\"student1\",\"student2\",\"student3\",\"student4\",\"student5\"])\n",
        "\n",
        "print(\"\\n datafrane1=\\n\",df1)\n",
        "df2=pd.DataFrame(data2,index=[\"student6\",\"student7\"])\n",
        "print(\"\\n dataframe2=\\n\",df2)\n",
        "resdf=pd.concat([df1,df2])\n",
        "print(\"\\n concatination dataframe=\\n\",resdf)"
      ]
    },
    {
      "cell_type": "code",
      "execution_count": null,
      "metadata": {
        "colab": {
          "base_uri": "https://localhost:8080/"
        },
        "id": "Jb0Dk3TziS-q",
        "outputId": "86454e98-2bcc-4326-d450-2104840dd865"
      },
      "outputs": [
        {
          "name": "stdout",
          "output_type": "stream",
          "text": [
            "\n",
            " pandas series=\n",
            " 0    10\n",
            "1    20\n",
            "2    30\n",
            "3    40\n",
            "4    50\n",
            "dtype: int64\n",
            "\n",
            " pandas number access\n",
            " 40\n",
            "a    10\n",
            "b    20\n",
            "c    30\n",
            "d    40\n",
            "e    50\n",
            "dtype: int64\n",
            "\n",
            " pandas label\n",
            " 10\n"
          ]
        }
      ],
      "source": [
        "#pandas series\n",
        "import pandas as pd\n",
        "#data\n",
        "data=[10,20,30,40,50]\n",
        "s=pd.Series(data)\n",
        "print(\"\\n pandas series=\\n\",s)\n",
        "#pandas access\n",
        "print(\"\\n pandas number access\\n\",s[3])\n",
        "#pandas  name of index access\n",
        "series=pd.Series(data,index =['a','b','c','d','e'],)\n",
        "print(series)\n",
        "#pandas access series of label\n",
        "print(\"\\n pandas label\\n\",series['a'])\n"
      ]
    },
    {
      "cell_type": "code",
      "execution_count": null,
      "metadata": {
        "colab": {
          "base_uri": "https://localhost:8080/"
        },
        "id": "Q4SaWUd9lLlo",
        "outputId": "4a5c8e96-3380-4587-9e6b-be7d4b8a6679"
      },
      "outputs": [
        {
          "name": "stdout",
          "output_type": "stream",
          "text": [
            "series:\n",
            " 0    10\n",
            "1    20\n",
            "2    30\n",
            "3    40\n",
            "4    50\n",
            "dtype: int64\n",
            "\n",
            " series datatype: int64\n",
            "1\n",
            "5\n",
            "None\n",
            "RangeIndex(start=0, stop=5, step=1)\n",
            "0    10\n",
            "1    20\n",
            "2    30\n",
            "3    40\n",
            "4    50\n",
            "dtype: int64\n",
            "0    10\n",
            "1    20\n",
            "2    30\n",
            "3    40\n",
            "4    50\n",
            "dtype: int64\n",
            "<class 'pandas.core.series.Series'>\n",
            "RangeIndex: 5 entries, 0 to 4\n",
            "Series name: None\n",
            "Non-Null Count  Dtype\n",
            "--------------  -----\n",
            "5 non-null      int64\n",
            "dtypes: int64(1)\n",
            "memory usage: 172.0 bytes\n",
            "None\n"
          ]
        }
      ],
      "source": [
        "import pandas as pd\n",
        "#data\n",
        "data=[10,20,30,40,50]\n",
        "#create a series using series() method\n",
        "s=pd.Series(data)\n",
        "#display the series\n",
        "print(\"series:\\n\",s)\n",
        "#data type\n",
        "print(\"\\n series datatype:\",s.dtypes)\n",
        "print(s.ndim)\n",
        "print(s.size)\n",
        "print(s.name)\n",
        "print(s.index)\n",
        "print(s.head())\n",
        "print(s.tail())\n",
        "print(s.info())"
      ]
    },
    {
      "cell_type": "code",
      "execution_count": null,
      "metadata": {
        "colab": {
          "base_uri": "https://localhost:8080/"
        },
        "id": "-gvcDKb4KmVN",
        "outputId": "21759ceb-c541-4e2e-b31c-e4fbe643798a"
      },
      "outputs": [
        {
          "name": "stdout",
          "output_type": "stream",
          "text": [
            "series1:\n",
            " 0    10\n",
            "1    40\n",
            "2    30\n",
            "dtype: int64\n",
            "series2:\n",
            " 0    20\n",
            "1    50\n",
            "2    60\n",
            "dtype: int64\n",
            "\n",
            " after combining:\n",
            " 0    10\n",
            "1    40\n",
            "2    30\n",
            "dtype: int64\n"
          ]
        }
      ],
      "source": [
        "import pandas as pd\n",
        "data1=[10,40,30]\n",
        "data2=[20,50,60]\n",
        "s1=pd.Series(data1)\n",
        "s2=pd.Series(data2)\n",
        "#display the series\n",
        "print(\"series1:\\n\",s1)\n",
        "print(\"series2:\\n\",s2)\n",
        "def demo(x1,x2):\n",
        "   if(x1>x2):\n",
        "     return x1\n",
        "   else:\n",
        "     return x2\n",
        "#combine two series into one\n",
        "res=s1.combine(s1,demo)\n",
        "print( \"\\n after combining:\\n\",res)"
      ]
    },
    {
      "cell_type": "code",
      "execution_count": null,
      "metadata": {
        "colab": {
          "base_uri": "https://localhost:8080/"
        },
        "id": "h_rGbOzYf31J",
        "outputId": "16d224d3-511d-4e3a-f3f5-398cf83a8e3f"
      },
      "outputs": [
        {
          "name": "stdout",
          "output_type": "stream",
          "text": [
            "series\n",
            " 0    p\n",
            "1    q\n",
            "2    r\n",
            "3    s\n",
            "dtype: category\n",
            "Categories (4, object): ['p', 'q', 'r', 's']\n"
          ]
        }
      ],
      "source": [
        "#create categorical series\n",
        "import pandas as pd\n",
        "s=pd.Series(data=['p','q','r','s'],dtype=\"category\")\n",
        "#display the series\n",
        "print(\"series\\n\",s)\n"
      ]
    },
    {
      "cell_type": "code",
      "execution_count": null,
      "metadata": {
        "colab": {
          "base_uri": "https://localhost:8080/"
        },
        "id": "5vLC_mXkoCX_",
        "outputId": "1026e31d-87fc-4239-9da3-13c00dc1ecb4"
      },
      "outputs": [
        {
          "name": "stdout",
          "output_type": "stream",
          "text": [
            "\n",
            " dataframe \n",
            "   cat1 cat2 cat3\n",
            "0    p    p    q\n",
            "1    q    q    r\n",
            "2    r    r    r\n",
            "3    s    p    r\n",
            "\n",
            " datatype of each column\n",
            " cat1    object\n",
            "cat2    object\n",
            "cat3    object\n",
            "dtype: object\n"
          ]
        }
      ],
      "source": [
        "#create categorical series\n",
        "import pandas as pd\n",
        "df=pd.DataFrame(data={\"cat1\":list(\"pqrs\"),\"cat2\":list(\"pqrp\"),\"cat3\":list(\"qrrr\")})\n",
        "#display the series\n",
        "print(\"\\n dataframe \\n\",df)\n",
        "#display the datatype\n",
        "print(\"\\n datatype of each column\\n\",df.dtypes)\n"
      ]
    },
    {
      "cell_type": "code",
      "execution_count": null,
      "metadata": {
        "colab": {
          "base_uri": "https://localhost:8080/"
        },
        "id": "aKMJNG1rpcBx",
        "outputId": "c3cedd99-1dce-40f1-c6cd-0d192e8a59fb"
      },
      "outputs": [
        {
          "name": "stdout",
          "output_type": "stream",
          "text": [
            "series=\n",
            " 0    p\n",
            "1    q\n",
            "2    r\n",
            "3    s\n",
            "4    q\n",
            "dtype: category\n",
            "Categories (4, object): ['p', 'q', 'r', 's']\n",
            "\n",
            " updated series=\n",
            " 0    p\n",
            "1    q\n",
            "2    r\n",
            "3    s\n",
            "4    q\n",
            "dtype: category\n",
            "Categories (5, object): ['p', 'q', 'r', 's', 't']\n"
          ]
        }
      ],
      "source": [
        "#append new categories in pandas\n",
        "import pandas as pd\n",
        "#create the categorical series\n",
        "s=pd.Series(data=['p','q','r','s','q'],dtype=\"category\")\n",
        "#dispaly the series\n",
        "print(\"series=\\n\",s)\n",
        "#append a category\n",
        "s=s.cat.add_categories(\"t\")\n",
        "#display the updates\n",
        "print(\"\\n updated series=\\n\",s)\n"
      ]
    },
    {
      "cell_type": "code",
      "execution_count": null,
      "metadata": {
        "colab": {
          "base_uri": "https://localhost:8080/"
        },
        "id": "4Jfn5pY-qv9Y",
        "outputId": "bdb5476a-f1f4-4c2e-fa17-ff34c276b193"
      },
      "outputs": [
        {
          "name": "stdout",
          "output_type": "stream",
          "text": [
            "series=\n",
            " 0    p\n",
            "1    q\n",
            "2    r\n",
            "3    s\n",
            "4    q\n",
            "dtype: category\n",
            "Categories (4, object): ['p', 'q', 'r', 's']\n",
            "\n",
            " updated series=\n",
            " 0      p\n",
            "1    NaN\n",
            "2      r\n",
            "3      s\n",
            "4    NaN\n",
            "dtype: category\n",
            "Categories (3, object): ['p', 'r', 's']\n"
          ]
        }
      ],
      "source": [
        "#remove  categories in pandas\n",
        "import pandas as pd\n",
        "#create the categorical series\n",
        "s=pd.Series(data=['p','q','r','s','q'],dtype=\"category\")\n",
        "#dispaly the series\n",
        "print(\"series=\\n\",s)\n",
        "#append a category\n",
        "s=s.cat.remove_categories(\"q\")\n",
        "#display the updates\n",
        "print(\"\\n updated series=\\n\",s)\n"
      ]
    },
    {
      "cell_type": "code",
      "execution_count": null,
      "metadata": {
        "colab": {
          "base_uri": "https://localhost:8080/"
        },
        "id": "VfgDmn8arA2r",
        "outputId": "f5c9d8a2-6ea1-41f2-b7c6-15a21007dcff"
      },
      "outputs": [
        {
          "name": "stdout",
          "output_type": "stream",
          "text": [
            "\n",
            " display the data\n",
            "       longitude  latitude  housing_median_age  total_rooms  total_bedrooms  \\\n",
            "0       -122.05     37.37                27.0       3885.0           661.0   \n",
            "1       -118.30     34.26                43.0       1510.0           310.0   \n",
            "2       -117.81     33.78                27.0       3589.0           507.0   \n",
            "3       -118.36     33.82                28.0         67.0            15.0   \n",
            "4       -119.67     36.33                19.0       1241.0           244.0   \n",
            "...         ...       ...                 ...          ...             ...   \n",
            "2995    -119.86     34.42                23.0       1450.0           642.0   \n",
            "2996    -118.14     34.06                27.0       5257.0          1082.0   \n",
            "2997    -119.70     36.30                10.0        956.0           201.0   \n",
            "2998    -117.12     34.10                40.0         96.0            14.0   \n",
            "2999    -119.63     34.42                42.0       1765.0           263.0   \n",
            "\n",
            "      population  households  median_income  median_house_value  \n",
            "0         1537.0       606.0         6.6085            344700.0  \n",
            "1          809.0       277.0         3.5990            176500.0  \n",
            "2         1484.0       495.0         5.7934            270500.0  \n",
            "3           49.0        11.0         6.1359            330000.0  \n",
            "4          850.0       237.0         2.9375             81700.0  \n",
            "...          ...         ...            ...                 ...  \n",
            "2995      1258.0       607.0         1.1790            225000.0  \n",
            "2996      3496.0      1036.0         3.3906            237200.0  \n",
            "2997       693.0       220.0         2.2895             62000.0  \n",
            "2998        46.0        14.0         3.2708            162500.0  \n",
            "2999       753.0       260.0         8.5608            500001.0  \n",
            "\n",
            "[3000 rows x 9 columns]\n"
          ]
        }
      ],
      "source": [
        "import pandas as pd\n",
        "#read csv file\n",
        "df=pd.read_csv('/content/sample_data/california_housing_test.csv')\n",
        "#display the dataframe\n",
        "print(\"\\n display the data\\n\",df)\n"
      ]
    },
    {
      "cell_type": "code",
      "execution_count": null,
      "metadata": {
        "colab": {
          "base_uri": "https://localhost:8080/"
        },
        "id": "JENPTV6yr2UZ",
        "outputId": "ca4429ec-01c1-4429-a771-4bbc35147182"
      },
      "outputs": [
        {
          "name": "stdout",
          "output_type": "stream",
          "text": [
            "\n",
            " display the data\n",
            "    longitude  latitude  housing_median_age  total_rooms  total_bedrooms  \\\n",
            "0    -122.05     37.37                27.0       3885.0           661.0   \n",
            "1    -118.30     34.26                43.0       1510.0           310.0   \n",
            "2    -117.81     33.78                27.0       3589.0           507.0   \n",
            "3    -118.36     33.82                28.0         67.0            15.0   \n",
            "4    -119.67     36.33                19.0       1241.0           244.0   \n",
            "\n",
            "   population  households  median_income  median_house_value  \n",
            "0      1537.0       606.0         6.6085            344700.0  \n",
            "1       809.0       277.0         3.5990            176500.0  \n",
            "2      1484.0       495.0         5.7934            270500.0  \n",
            "3        49.0        11.0         6.1359            330000.0  \n",
            "4       850.0       237.0         2.9375             81700.0  \n"
          ]
        }
      ],
      "source": [
        "import pandas as pd\n",
        "#read csv file\n",
        "df=pd.read_csv('/content/sample_data/california_housing_test.csv')\n",
        "#display the dataframe\n",
        "print(\"\\n display the data\\n\",df.head())\n"
      ]
    },
    {
      "cell_type": "code",
      "execution_count": null,
      "metadata": {
        "colab": {
          "base_uri": "https://localhost:8080/"
        },
        "id": "xYUpLcrdr_s6",
        "outputId": "c3259f13-bb68-44f0-afeb-74f826e042e1"
      },
      "outputs": [
        {
          "name": "stdout",
          "output_type": "stream",
          "text": [
            "\n",
            " display the data\n",
            "       longitude  latitude  housing_median_age  total_rooms  total_bedrooms  \\\n",
            "2995    -119.86     34.42                23.0       1450.0           642.0   \n",
            "2996    -118.14     34.06                27.0       5257.0          1082.0   \n",
            "2997    -119.70     36.30                10.0        956.0           201.0   \n",
            "2998    -117.12     34.10                40.0         96.0            14.0   \n",
            "2999    -119.63     34.42                42.0       1765.0           263.0   \n",
            "\n",
            "      population  households  median_income  median_house_value  \n",
            "2995      1258.0       607.0         1.1790            225000.0  \n",
            "2996      3496.0      1036.0         3.3906            237200.0  \n",
            "2997       693.0       220.0         2.2895             62000.0  \n",
            "2998        46.0        14.0         3.2708            162500.0  \n",
            "2999       753.0       260.0         8.5608            500001.0  \n"
          ]
        }
      ],
      "source": [
        "import pandas as pd\n",
        "#read csv file\n",
        "df=pd.read_csv('/content/sample_data/california_housing_test.csv')\n",
        "#display the dataframe\n",
        "print(\"\\n display the data\\n\",df.tail())\n"
      ]
    },
    {
      "cell_type": "code",
      "execution_count": null,
      "metadata": {
        "colab": {
          "base_uri": "https://localhost:8080/"
        },
        "id": "osbAQyxGvZg-",
        "outputId": "f4420c60-9b59-4a34-81cf-3810a4fdb9bb"
      },
      "outputs": [
        {
          "name": "stdout",
          "output_type": "stream",
          "text": [
            "\n",
            " display the data\n",
            "              longitude  latitude  housing_median_age  total_bedrooms  \\\n",
            "total_rooms                                                            \n",
            "3885.0         -122.05     37.37                27.0           661.0   \n",
            "1510.0         -118.30     34.26                43.0           310.0   \n",
            "3589.0         -117.81     33.78                27.0           507.0   \n",
            "67.0           -118.36     33.82                28.0            15.0   \n",
            "1241.0         -119.67     36.33                19.0           244.0   \n",
            "...                ...       ...                 ...             ...   \n",
            "1450.0         -119.86     34.42                23.0           642.0   \n",
            "5257.0         -118.14     34.06                27.0          1082.0   \n",
            "956.0          -119.70     36.30                10.0           201.0   \n",
            "96.0           -117.12     34.10                40.0            14.0   \n",
            "1765.0         -119.63     34.42                42.0           263.0   \n",
            "\n",
            "             population  households  median_income  median_house_value  \n",
            "total_rooms                                                             \n",
            "3885.0           1537.0       606.0         6.6085            344700.0  \n",
            "1510.0            809.0       277.0         3.5990            176500.0  \n",
            "3589.0           1484.0       495.0         5.7934            270500.0  \n",
            "67.0               49.0        11.0         6.1359            330000.0  \n",
            "1241.0            850.0       237.0         2.9375             81700.0  \n",
            "...                 ...         ...            ...                 ...  \n",
            "1450.0           1258.0       607.0         1.1790            225000.0  \n",
            "5257.0           3496.0      1036.0         3.3906            237200.0  \n",
            "956.0             693.0       220.0         2.2895             62000.0  \n",
            "96.0               46.0        14.0         3.2708            162500.0  \n",
            "1765.0            753.0       260.0         8.5608            500001.0  \n",
            "\n",
            "[3000 rows x 8 columns]\n",
            "\n",
            " total_rooms\n",
            "3885.0    1537.0\n",
            "1510.0     809.0\n",
            "3589.0    1484.0\n",
            "67.0        49.0\n",
            "1241.0     850.0\n",
            "           ...  \n",
            "1450.0    1258.0\n",
            "5257.0    3496.0\n",
            "956.0      693.0\n",
            "96.0        46.0\n",
            "1765.0     753.0\n",
            "Name: population, Length: 3000, dtype: float64\n"
          ]
        }
      ],
      "source": [
        "import pandas as pd\n",
        "#read csv file\n",
        "df=pd.read_csv('/content/sample_data/california_housing_test.csv',index_col=\"total_rooms\")\n",
        "\n",
        "#display the dataframe\n",
        "print(\"\\n display the data\\n\",df)\n",
        "# use the indexing operator\n",
        "res=df[\"population\"]\n",
        "#result\n",
        "print(\"\\n\",res)\n",
        "print(\"\\n\",df.loc)"
      ]
    },
    {
      "cell_type": "code",
      "execution_count": null,
      "metadata": {
        "colab": {
          "base_uri": "https://localhost:8080/"
        },
        "id": "LXefZ3CJePJQ",
        "outputId": "1bbb5664-baa7-4705-f55c-74dd0cdc131d"
      },
      "outputs": [
        {
          "name": "stdout",
          "output_type": "stream",
          "text": [
            "\n",
            " display the data\n",
            "              longitude  latitude  housing_median_age  total_bedrooms  \\\n",
            "total_rooms                                                            \n",
            "3885.0         -122.05     37.37                27.0           661.0   \n",
            "1510.0         -118.30     34.26                43.0           310.0   \n",
            "3589.0         -117.81     33.78                27.0           507.0   \n",
            "67.0           -118.36     33.82                28.0            15.0   \n",
            "1241.0         -119.67     36.33                19.0           244.0   \n",
            "...                ...       ...                 ...             ...   \n",
            "1450.0         -119.86     34.42                23.0           642.0   \n",
            "5257.0         -118.14     34.06                27.0          1082.0   \n",
            "956.0          -119.70     36.30                10.0           201.0   \n",
            "96.0           -117.12     34.10                40.0            14.0   \n",
            "1765.0         -119.63     34.42                42.0           263.0   \n",
            "\n",
            "             population  households  median_income  median_house_value  \n",
            "total_rooms                                                             \n",
            "3885.0           1537.0       606.0         6.6085            344700.0  \n",
            "1510.0            809.0       277.0         3.5990            176500.0  \n",
            "3589.0           1484.0       495.0         5.7934            270500.0  \n",
            "67.0               49.0        11.0         6.1359            330000.0  \n",
            "1241.0            850.0       237.0         2.9375             81700.0  \n",
            "...                 ...         ...            ...                 ...  \n",
            "1450.0           1258.0       607.0         1.1790            225000.0  \n",
            "5257.0           3496.0      1036.0         3.3906            237200.0  \n",
            "956.0             693.0       220.0         2.2895             62000.0  \n",
            "96.0               46.0        14.0         3.2708            162500.0  \n",
            "1765.0            753.0       260.0         8.5608            500001.0  \n",
            "\n",
            "[3000 rows x 8 columns]\n",
            "\n",
            " total_rooms\n",
            "3885.0    1537.0\n",
            "1510.0     809.0\n",
            "3589.0    1484.0\n",
            "67.0        49.0\n",
            "1241.0     850.0\n",
            "           ...  \n",
            "1450.0    1258.0\n",
            "5257.0    3496.0\n",
            "956.0      693.0\n",
            "96.0        46.0\n",
            "1765.0     753.0\n",
            "Name: population, Length: 3000, dtype: float64\n",
            "\n",
            " longitude               -117.8100\n",
            "latitude                  33.7800\n",
            "housing_median_age        27.0000\n",
            "total_bedrooms           507.0000\n",
            "population              1484.0000\n",
            "households               495.0000\n",
            "median_income              5.7934\n",
            "median_house_value    270500.0000\n",
            "Name: 3589.0, dtype: float64\n"
          ]
        }
      ],
      "source": [
        "import pandas as pd\n",
        "#read csv file\n",
        "df=pd.read_csv('/content/sample_data/california_housing_test.csv',index_col=\"total_rooms\")\n",
        "\n",
        "#display the dataframe\n",
        "print(\"\\n display the data\\n\",df)\n",
        "# use the indexing operator\n",
        "res=df[\"population\"]\n",
        "#result\n",
        "print(\"\\n\",res)\n",
        "print(\"\\n\",df.iloc[2])"
      ]
    },
    {
      "cell_type": "code",
      "execution_count": null,
      "metadata": {
        "colab": {
          "base_uri": "https://localhost:8080/"
        },
        "id": "QJRhj-XRj7ra",
        "outputId": "e95b9ac3-1854-4893-d70c-3bc4d56296f0"
      },
      "outputs": [
        {
          "name": "stdout",
          "output_type": "stream",
          "text": [
            "  student  rank  marks\n",
            "0    amit     1     90\n",
            "1    john     2     70\n",
            "2   jacob     3     80\n",
            "3   steve     4     60\n",
            "   rank  marks\n",
            "0     1     90\n",
            "1     2     70\n",
            "2     3     80\n",
            "3     4     60\n"
          ]
        }
      ],
      "source": [
        "#select 2 column\n",
        "\n",
        "import pandas as pd\n",
        "#dataset\n",
        "data = {\n",
        "    'student':[\"amit\",\"john\",\"jacob\",\"steve\"],\n",
        "    'rank':[1,2,3,4],\n",
        "    'marks':[90,70,80,60]\n",
        "}\n",
        "df=pd.DataFrame(data)\n",
        "print(df)\n",
        "print(df[['rank','marks']])"
      ]
    },
    {
      "cell_type": "code",
      "execution_count": null,
      "metadata": {
        "colab": {
          "base_uri": "https://localhost:8080/"
        },
        "id": "-phGhpfZobqA",
        "outputId": "825aee2c-cc6d-4b77-ca14-60113795ecf1"
      },
      "outputs": [
        {
          "name": "stdout",
          "output_type": "stream",
          "text": [
            "  student  rank  marks\n",
            "0    amit     1     90\n",
            "1    john     2     70\n",
            "2   jacob     3     80\n",
            "3   steve     4     60\n",
            "Index(['student', 'rank', 'marks'], dtype='object')\n"
          ]
        }
      ],
      "source": [
        "#select multiple column\n",
        "import pandas as pd\n",
        "#dataset\n",
        "data = {\n",
        "    'student':[\"amit\",\"john\",\"jacob\",\"steve\"],\n",
        "    'rank':[1,2,3,4],\n",
        "    'marks':[90,70,80,60]\n",
        "}\n",
        "df=pd.DataFrame(data)\n",
        "print(df)\n",
        "print(df.columns[0:3])\n"
      ]
    },
    {
      "cell_type": "code",
      "execution_count": null,
      "metadata": {
        "colab": {
          "base_uri": "https://localhost:8080/"
        },
        "id": "DF9EK8z6plqH",
        "outputId": "cbfcefcb-1a8b-4264-a216-5deb0d5c1ef8"
      },
      "outputs": [
        {
          "name": "stdout",
          "output_type": "stream",
          "text": [
            "  student  rank  marks\n",
            "0    amit     1     90\n",
            "1    john     2     70\n",
            "2   jacob     3     80\n",
            "3   steve     4     60\n",
            "  student  rank  roll  marks\n",
            "0    amit     1   101     90\n",
            "1    john     2   102     70\n",
            "2   jacob     3   103     80\n",
            "3   steve     4   104     60\n"
          ]
        }
      ],
      "source": [
        "#select add new column\n",
        "import pandas as pd\n",
        "#dataset\n",
        "data = {\n",
        "    'student':[\"amit\",\"john\",\"jacob\",\"steve\"],\n",
        "    'rank':[1,2,3,4],\n",
        "    'marks':[90,70,80,60]\n",
        "}\n",
        "df=pd.DataFrame(data)\n",
        "print(df)\n",
        "df.insert(2,'roll',[101,102,103,104])\n",
        "print(df)\n",
        "\n",
        "\n"
      ]
    },
    {
      "cell_type": "code",
      "execution_count": null,
      "metadata": {
        "colab": {
          "base_uri": "https://localhost:8080/"
        },
        "id": "aSodrvN1qSVX",
        "outputId": "1aec9d0f-c0f9-4605-be59-f56d1449d9a2"
      },
      "outputs": [
        {
          "name": "stdout",
          "output_type": "stream",
          "text": [
            "  student  rank  marks\n",
            "0    amit     1     90\n",
            "1    john     2     70\n",
            "2   jacob     3     80\n",
            "3   steve     4     60\n",
            "  student  rank  marks  roll\n",
            "0    amit     1     90   101\n",
            "1    john     2     70   102\n",
            "2   jacob     3     80   103\n",
            "3   steve     4     60   104\n"
          ]
        }
      ],
      "source": [
        "# add new column using assign\n",
        "#select multiple column\n",
        "import pandas as pd\n",
        "#dataset\n",
        "data = {\n",
        "    'student':[\"amit\",\"john\",\"jacob\",\"steve\"],\n",
        "    'rank':[1,2,3,4],\n",
        "    'marks':[90,70,80,60]\n",
        "}\n",
        "df=pd.DataFrame(data)\n",
        "print(df)\n",
        "resdf=df.assign(roll=[101,102,103,104])\n",
        "print(resdf)\n",
        "\n"
      ]
    },
    {
      "cell_type": "code",
      "execution_count": null,
      "metadata": {
        "colab": {
          "base_uri": "https://localhost:8080/"
        },
        "id": "6WZr9BZJq2KS",
        "outputId": "1d89c209-78b0-4b2b-d99e-5aa3db54fc2f"
      },
      "outputs": [
        {
          "name": "stdout",
          "output_type": "stream",
          "text": [
            "  student  rank  marks\n",
            "0    amit     1     90\n",
            "1    john     2     70\n",
            "2   jacob     3     80\n",
            "3   steve     4     60\n",
            "  student  rank\n",
            "0    amit     1\n",
            "1    john     2\n",
            "2   jacob     3\n",
            "3   steve     4\n"
          ]
        }
      ],
      "source": [
        "#pandas using delect column\n",
        "import pandas as pd\n",
        "#dataset\n",
        "data = {\n",
        "    'student':[\"amit\",\"john\",\"jacob\",\"steve\"],\n",
        "    'rank':[1,2,3,4],\n",
        "    'marks':[90,70,80,60]\n",
        "}\n",
        "df=pd.DataFrame(data)\n",
        "print(df)\n",
        "resdf = df.drop('marks',axis=1)\n",
        "print(resdf)\n",
        "\n"
      ]
    },
    {
      "cell_type": "code",
      "execution_count": null,
      "metadata": {
        "colab": {
          "base_uri": "https://localhost:8080/"
        },
        "id": "lFBX9nL9tOd3",
        "outputId": "f669b761-8d82-4c77-fa22-57040bd8e25b"
      },
      "outputs": [
        {
          "name": "stdout",
          "output_type": "stream",
          "text": [
            "  student  rank  marks\n",
            "0    amit     1     90\n",
            "1    john     2     70\n",
            "2   jacob     3     80\n",
            "3   steve     4     60\n",
            "  student  rank  marks\n",
            "0    amit     1     90\n",
            "1    john     2     70\n",
            "3   steve     4     60\n"
          ]
        }
      ],
      "source": [
        "#pandas using delect row\n",
        "import pandas as pd\n",
        "#dataset\n",
        "data = {\n",
        "    'student':[\"amit\",\"john\",\"jacob\",\"steve\"],\n",
        "    'rank':[1,2,3,4],\n",
        "    'marks':[90,70,80,60]\n",
        "}\n",
        "df=pd.DataFrame(data)\n",
        "print(df)\n",
        "resdf = df.drop(2,axis=0)\n",
        "print(resdf)\n",
        "\n"
      ]
    },
    {
      "cell_type": "code",
      "execution_count": null,
      "metadata": {
        "colab": {
          "base_uri": "https://localhost:8080/"
        },
        "id": "yCOvH2DXt4We",
        "outputId": "53eff6dd-a157-41e3-8ad6-9d360ffc6c4a"
      },
      "outputs": [
        {
          "name": "stdout",
          "output_type": "stream",
          "text": [
            "     student  rank  marks\n",
            "rowa    amit     1     90\n",
            "rowb    john     2     70\n",
            "rowc   jacob     3     80\n",
            "rowd   steve     4     60\n",
            "     student  rank  marks\n",
            "rowa    amit     1     90\n",
            "rowb    john     2     70\n",
            "rowc   jacob     3     80\n",
            "rowd   steve     4     60\n",
            "     student  rank  marks\n",
            "rowd   steve     4     60\n",
            "rowc   jacob     3     80\n",
            "rowb    john     2     70\n",
            "rowa    amit     1     90\n"
          ]
        }
      ],
      "source": [
        "#sorting\n",
        "import pandas as pd\n",
        "#dataset\n",
        "data = {\n",
        "    'student':[\"amit\",\"john\",\"jacob\",\"steve\"],\n",
        "    'rank':[1,2,3,4],\n",
        "    'marks':[90,70,80,60]\n",
        "}\n",
        "df=pd.DataFrame(data,index=['rowa','rowb','rowc','rowd'])\n",
        "print(df)\n",
        "\n",
        "print(df.sort_index())\n",
        "\n",
        "#desanding order\n",
        "print(df.sort_index(ascending=False))\n"
      ]
    },
    {
      "cell_type": "code",
      "execution_count": null,
      "metadata": {
        "colab": {
          "base_uri": "https://localhost:8080/"
        },
        "id": "ysWd1YU9vhQE",
        "outputId": "43d7902c-d3f0-4268-d9df-3236b35a8893"
      },
      "outputs": [
        {
          "name": "stdout",
          "output_type": "stream",
          "text": [
            "  student  rank  marks\n",
            "0    amit     1     90\n",
            "1    john     2     70\n",
            "2   jacob     3     80\n",
            "3   steve     4     60\n",
            "0    False\n",
            "1    False\n",
            "2    False\n",
            "3    False\n",
            "dtype: bool\n"
          ]
        }
      ],
      "source": [
        "\n",
        "#find duplicate\n",
        "import pandas as pd\n",
        "#dataset\n",
        "data = {\n",
        "    'student':[\"amit\",\"john\",\"jacob\",\"steve\"],\n",
        "    'rank':[1,2,3,4],\n",
        "    'marks':[90,70,80,60]\n",
        "}\n",
        "df=pd.DataFrame(data)\n",
        "print(df)\n",
        "resdf=df.duplicated()\n",
        "print(resdf)"
      ]
    },
    {
      "cell_type": "code",
      "execution_count": null,
      "metadata": {
        "colab": {
          "base_uri": "https://localhost:8080/"
        },
        "id": "35ZgNS5gznyS",
        "outputId": "a6834460-5cb0-44bc-898c-639a01dd3df4"
      },
      "outputs": [
        {
          "name": "stdout",
          "output_type": "stream",
          "text": [
            "  student  rank  marks\n",
            "0    amit     1     90\n",
            "1    john     2     70\n",
            "2   jacob     3     80\n",
            "3   steve     4     60\n",
            "\n",
            "\n",
            "  student  rank  marks\n",
            "0    amit     1     90\n",
            "1    john     2     70\n",
            "2   jacob     3     80\n",
            "3   steve     4     60\n"
          ]
        }
      ],
      "source": [
        "#drop duplicate\n",
        "import pandas as pd\n",
        "#dataset\n",
        "data = {\n",
        "    'student':[\"amit\",\"john\",\"jacob\",\"steve\"],\n",
        "    'rank':[1,2,3,4],\n",
        "    'marks':[90,70,80,60]\n",
        "}\n",
        "df=pd.DataFrame(data)\n",
        "print(df)\n",
        "print(\"\\n\")\n",
        "resdf=df.drop_duplicates()\n",
        "print(resdf)"
      ]
    },
    {
      "cell_type": "code",
      "execution_count": null,
      "metadata": {
        "colab": {
          "base_uri": "https://localhost:8080/"
        },
        "id": "kScxFrG5z8WR",
        "outputId": "3eff5986-7fb8-46c8-fa7d-ed31cc0b0d02"
      },
      "outputs": [
        {
          "name": "stdout",
          "output_type": "stream",
          "text": [
            "      longitude  latitude  housing_median_age  total_rooms  total_bedrooms  \\\n",
            "0       -122.05     37.37                27.0       3885.0           661.0   \n",
            "1       -118.30     34.26                43.0       1510.0           310.0   \n",
            "2       -117.81     33.78                27.0       3589.0           507.0   \n",
            "3       -118.36     33.82                28.0         67.0            15.0   \n",
            "4       -119.67     36.33                19.0       1241.0           244.0   \n",
            "...         ...       ...                 ...          ...             ...   \n",
            "2995    -119.86     34.42                23.0       1450.0           642.0   \n",
            "2996    -118.14     34.06                27.0       5257.0          1082.0   \n",
            "2997    -119.70     36.30                10.0        956.0           201.0   \n",
            "2998    -117.12     34.10                40.0         96.0            14.0   \n",
            "2999    -119.63     34.42                42.0       1765.0           263.0   \n",
            "\n",
            "      population  households  median_income  median_house_value  \n",
            "0         1537.0       606.0         6.6085            344700.0  \n",
            "1          809.0       277.0         3.5990            176500.0  \n",
            "2         1484.0       495.0         5.7934            270500.0  \n",
            "3           49.0        11.0         6.1359            330000.0  \n",
            "4          850.0       237.0         2.9375             81700.0  \n",
            "...          ...         ...            ...                 ...  \n",
            "2995      1258.0       607.0         1.1790            225000.0  \n",
            "2996      3496.0      1036.0         3.3906            237200.0  \n",
            "2997       693.0       220.0         2.2895             62000.0  \n",
            "2998        46.0        14.0         3.2708            162500.0  \n",
            "2999       753.0       260.0         8.5608            500001.0  \n",
            "\n",
            "[3000 rows x 9 columns]\n",
            "      longitude  latitude  housing_median_age  total_rooms  total_bedrooms  \\\n",
            "0         False     False               False        False           False   \n",
            "1         False     False               False        False           False   \n",
            "2         False     False               False        False           False   \n",
            "3         False     False               False        False           False   \n",
            "4         False     False               False        False           False   \n",
            "...         ...       ...                 ...          ...             ...   \n",
            "2995      False     False               False        False           False   \n",
            "2996      False     False               False        False           False   \n",
            "2997      False     False               False        False           False   \n",
            "2998      False     False               False        False           False   \n",
            "2999      False     False               False        False           False   \n",
            "\n",
            "      population  households  median_income  median_house_value  \n",
            "0          False       False          False               False  \n",
            "1          False       False          False               False  \n",
            "2          False       False          False               False  \n",
            "3          False       False          False               False  \n",
            "4          False       False          False               False  \n",
            "...          ...         ...            ...                 ...  \n",
            "2995       False       False          False               False  \n",
            "2996       False       False          False               False  \n",
            "2997       False       False          False               False  \n",
            "2998       False       False          False               False  \n",
            "2999       False       False          False               False  \n",
            "\n",
            "[3000 rows x 9 columns]\n"
          ]
        }
      ],
      "source": [
        "#pandas built in function\n",
        "import pandas as pd\n",
        "df=pd.read_csv('/content/sample_data/california_housing_test.csv')\n",
        "print(df)\n",
        "resdf=df.isnull()\n",
        "print(resdf)\n"
      ]
    },
    {
      "cell_type": "code",
      "execution_count": null,
      "metadata": {
        "colab": {
          "base_uri": "https://localhost:8080/"
        },
        "id": "ZV1uGl-Q0sDd",
        "outputId": "4e8cbd38-8a7f-47d4-9f8e-dd6b5fccc288"
      },
      "outputs": [
        {
          "name": "stdout",
          "output_type": "stream",
          "text": [
            "      longitude  latitude  housing_median_age  total_rooms  total_bedrooms  \\\n",
            "0       -122.05     37.37                27.0       3885.0           661.0   \n",
            "1       -118.30     34.26                43.0       1510.0           310.0   \n",
            "2       -117.81     33.78                27.0       3589.0           507.0   \n",
            "3       -118.36     33.82                28.0         67.0            15.0   \n",
            "4       -119.67     36.33                19.0       1241.0           244.0   \n",
            "...         ...       ...                 ...          ...             ...   \n",
            "2995    -119.86     34.42                23.0       1450.0           642.0   \n",
            "2996    -118.14     34.06                27.0       5257.0          1082.0   \n",
            "2997    -119.70     36.30                10.0        956.0           201.0   \n",
            "2998    -117.12     34.10                40.0         96.0            14.0   \n",
            "2999    -119.63     34.42                42.0       1765.0           263.0   \n",
            "\n",
            "      population  households  median_income  median_house_value  \n",
            "0         1537.0       606.0         6.6085            344700.0  \n",
            "1          809.0       277.0         3.5990            176500.0  \n",
            "2         1484.0       495.0         5.7934            270500.0  \n",
            "3           49.0        11.0         6.1359            330000.0  \n",
            "4          850.0       237.0         2.9375             81700.0  \n",
            "...          ...         ...            ...                 ...  \n",
            "2995      1258.0       607.0         1.1790            225000.0  \n",
            "2996      3496.0      1036.0         3.3906            237200.0  \n",
            "2997       693.0       220.0         2.2895             62000.0  \n",
            "2998        46.0        14.0         3.2708            162500.0  \n",
            "2999       753.0       260.0         8.5608            500001.0  \n",
            "\n",
            "[3000 rows x 9 columns]\n",
            "      longitude  latitude  housing_median_age  total_rooms  total_bedrooms  \\\n",
            "0          True      True                True         True            True   \n",
            "1          True      True                True         True            True   \n",
            "2          True      True                True         True            True   \n",
            "3          True      True                True         True            True   \n",
            "4          True      True                True         True            True   \n",
            "...         ...       ...                 ...          ...             ...   \n",
            "2995       True      True                True         True            True   \n",
            "2996       True      True                True         True            True   \n",
            "2997       True      True                True         True            True   \n",
            "2998       True      True                True         True            True   \n",
            "2999       True      True                True         True            True   \n",
            "\n",
            "      population  households  median_income  median_house_value  \n",
            "0           True        True           True                True  \n",
            "1           True        True           True                True  \n",
            "2           True        True           True                True  \n",
            "3           True        True           True                True  \n",
            "4           True        True           True                True  \n",
            "...          ...         ...            ...                 ...  \n",
            "2995        True        True           True                True  \n",
            "2996        True        True           True                True  \n",
            "2997        True        True           True                True  \n",
            "2998        True        True           True                True  \n",
            "2999        True        True           True                True  \n",
            "\n",
            "[3000 rows x 9 columns]\n"
          ]
        }
      ],
      "source": [
        "#pandas built in function\n",
        "import pandas as pd\n",
        "df=pd.read_csv('/content/sample_data/california_housing_test.csv')\n",
        "print(df)\n",
        "resdf=df.notnull()\n",
        "print(resdf)\n"
      ]
    },
    {
      "cell_type": "code",
      "execution_count": null,
      "metadata": {
        "colab": {
          "base_uri": "https://localhost:8080/"
        },
        "id": "AUvlZcpx0ypv",
        "outputId": "8f4e6ab2-0064-4e23-a195-15ba0dc1b097"
      },
      "outputs": [
        {
          "name": "stdout",
          "output_type": "stream",
          "text": [
            "      longitude  latitude  housing_median_age  total_rooms  total_bedrooms  \\\n",
            "0       -122.05     37.37                27.0       3885.0           661.0   \n",
            "1       -118.30     34.26                43.0       1510.0           310.0   \n",
            "2       -117.81     33.78                27.0       3589.0           507.0   \n",
            "3       -118.36     33.82                28.0         67.0            15.0   \n",
            "4       -119.67     36.33                19.0       1241.0           244.0   \n",
            "...         ...       ...                 ...          ...             ...   \n",
            "2995    -119.86     34.42                23.0       1450.0           642.0   \n",
            "2996    -118.14     34.06                27.0       5257.0          1082.0   \n",
            "2997    -119.70     36.30                10.0        956.0           201.0   \n",
            "2998    -117.12     34.10                40.0         96.0            14.0   \n",
            "2999    -119.63     34.42                42.0       1765.0           263.0   \n",
            "\n",
            "      population  households  median_income  median_house_value  \n",
            "0         1537.0       606.0         6.6085            344700.0  \n",
            "1          809.0       277.0         3.5990            176500.0  \n",
            "2         1484.0       495.0         5.7934            270500.0  \n",
            "3           49.0        11.0         6.1359            330000.0  \n",
            "4          850.0       237.0         2.9375             81700.0  \n",
            "...          ...         ...            ...                 ...  \n",
            "2995      1258.0       607.0         1.1790            225000.0  \n",
            "2996      3496.0      1036.0         3.3906            237200.0  \n",
            "2997       693.0       220.0         2.2895             62000.0  \n",
            "2998        46.0        14.0         3.2708            162500.0  \n",
            "2999       753.0       260.0         8.5608            500001.0  \n",
            "\n",
            "[3000 rows x 9 columns]\n",
            "      longitude  latitude  housing_median_age  total_rooms  total_bedrooms  \\\n",
            "0       -122.05     37.37                27.0       3885.0           661.0   \n",
            "1       -118.30     34.26                43.0       1510.0           310.0   \n",
            "2       -117.81     33.78                27.0       3589.0           507.0   \n",
            "3       -118.36     33.82                28.0         67.0            15.0   \n",
            "4       -119.67     36.33                19.0       1241.0           244.0   \n",
            "...         ...       ...                 ...          ...             ...   \n",
            "2995    -119.86     34.42                23.0       1450.0           642.0   \n",
            "2996    -118.14     34.06                27.0       5257.0          1082.0   \n",
            "2997    -119.70     36.30                10.0        956.0           201.0   \n",
            "2998    -117.12     34.10                40.0         96.0            14.0   \n",
            "2999    -119.63     34.42                42.0       1765.0           263.0   \n",
            "\n",
            "      population  households  median_income  median_house_value  \n",
            "0         1537.0       606.0         6.6085            344700.0  \n",
            "1          809.0       277.0         3.5990            176500.0  \n",
            "2         1484.0       495.0         5.7934            270500.0  \n",
            "3           49.0        11.0         6.1359            330000.0  \n",
            "4          850.0       237.0         2.9375             81700.0  \n",
            "...          ...         ...            ...                 ...  \n",
            "2995      1258.0       607.0         1.1790            225000.0  \n",
            "2996      3496.0      1036.0         3.3906            237200.0  \n",
            "2997       693.0       220.0         2.2895             62000.0  \n",
            "2998        46.0        14.0         3.2708            162500.0  \n",
            "2999       753.0       260.0         8.5608            500001.0  \n",
            "\n",
            "[3000 rows x 9 columns]\n"
          ]
        }
      ],
      "source": [
        "#pandas built in function\n",
        "import pandas as pd\n",
        "df=pd.read_csv('/content/sample_data/california_housing_test.csv')\n",
        "print(df)\n",
        "resdf=df.dropna()\n",
        "print(resdf)\n"
      ]
    },
    {
      "cell_type": "code",
      "execution_count": null,
      "metadata": {
        "colab": {
          "base_uri": "https://localhost:8080/"
        },
        "id": "p2IWV6WH06kr",
        "outputId": "c1566550-822d-46b1-a174-0616c4403086"
      },
      "outputs": [
        {
          "name": "stdout",
          "output_type": "stream",
          "text": [
            "      longitude  latitude  housing_median_age  total_rooms  total_bedrooms  \\\n",
            "0       -122.05     37.37                27.0       3885.0           661.0   \n",
            "1       -118.30     34.26                43.0       1510.0           310.0   \n",
            "2       -117.81     33.78                27.0       3589.0           507.0   \n",
            "3       -118.36     33.82                28.0         67.0            15.0   \n",
            "4       -119.67     36.33                19.0       1241.0           244.0   \n",
            "...         ...       ...                 ...          ...             ...   \n",
            "2995    -119.86     34.42                23.0       1450.0           642.0   \n",
            "2996    -118.14     34.06                27.0       5257.0          1082.0   \n",
            "2997    -119.70     36.30                10.0        956.0           201.0   \n",
            "2998    -117.12     34.10                40.0         96.0            14.0   \n",
            "2999    -119.63     34.42                42.0       1765.0           263.0   \n",
            "\n",
            "      population  households  median_income  median_house_value  \n",
            "0         1537.0       606.0         6.6085            344700.0  \n",
            "1          809.0       277.0         3.5990            176500.0  \n",
            "2         1484.0       495.0         5.7934            270500.0  \n",
            "3           49.0        11.0         6.1359            330000.0  \n",
            "4          850.0       237.0         2.9375             81700.0  \n",
            "...          ...         ...            ...                 ...  \n",
            "2995      1258.0       607.0         1.1790            225000.0  \n",
            "2996      3496.0      1036.0         3.3906            237200.0  \n",
            "2997       693.0       220.0         2.2895             62000.0  \n",
            "2998        46.0        14.0         3.2708            162500.0  \n",
            "2999       753.0       260.0         8.5608            500001.0  \n",
            "\n",
            "[3000 rows x 9 columns]\n",
            "      longitude  latitude  housing_median_age  total_rooms  total_bedrooms  \\\n",
            "0       -122.05     37.37                27.0       3885.0           661.0   \n",
            "1       -118.30     34.26                43.0       1510.0           310.0   \n",
            "2       -117.81     33.78                27.0       3589.0           507.0   \n",
            "3       -118.36     33.82                28.0         67.0            15.0   \n",
            "4       -119.67     36.33                19.0       1241.0           244.0   \n",
            "...         ...       ...                 ...          ...             ...   \n",
            "2995    -119.86     34.42                23.0       1450.0           642.0   \n",
            "2996    -118.14     34.06                27.0       5257.0          1082.0   \n",
            "2997    -119.70     36.30                10.0        956.0           201.0   \n",
            "2998    -117.12     34.10                40.0         96.0            14.0   \n",
            "2999    -119.63     34.42                42.0       1765.0           263.0   \n",
            "\n",
            "      population  households  median_income  median_house_value  \n",
            "0         1537.0       606.0         6.6085            344700.0  \n",
            "1          809.0       277.0         3.5990            176500.0  \n",
            "2         1484.0       495.0         5.7934            270500.0  \n",
            "3           49.0        11.0         6.1359            330000.0  \n",
            "4          850.0       237.0         2.9375             81700.0  \n",
            "...          ...         ...            ...                 ...  \n",
            "2995      1258.0       607.0         1.1790            225000.0  \n",
            "2996      3496.0      1036.0         3.3906            237200.0  \n",
            "2997       693.0       220.0         2.2895             62000.0  \n",
            "2998        46.0        14.0         3.2708            162500.0  \n",
            "2999       753.0       260.0         8.5608            500001.0  \n",
            "\n",
            "[3000 rows x 9 columns]\n"
          ]
        }
      ],
      "source": [
        "#pandas built in function\n",
        "import pandas as pd\n",
        "df=pd.read_csv('/content/sample_data/california_housing_test.csv')\n",
        "print(df)\n",
        "resdf=df.fillna(111)\n",
        "print(resdf)"
      ]
    },
    {
      "cell_type": "code",
      "execution_count": null,
      "metadata": {
        "colab": {
          "base_uri": "https://localhost:8080/"
        },
        "id": "PQZRWBtK1LQg",
        "outputId": "b4a1c1fe-aee6-48cb-d89f-c93f5339c45c"
      },
      "outputs": [
        {
          "name": "stdout",
          "output_type": "stream",
          "text": [
            "0    Aswin\n",
            "1      Don\n",
            "2     Anna\n",
            "dtype: object\n",
            "0    ASWIN\n",
            "1      DON\n",
            "2     ANNA\n",
            "dtype: object\n",
            "0    aswin\n",
            "1      don\n",
            "2     anna\n",
            "dtype: object\n",
            "0    Aswin\n",
            "1      Don\n",
            "2     Anna\n",
            "dtype: object\n",
            "0    5\n",
            "1    3\n",
            "2    4\n",
            "dtype: int64\n",
            "3\n",
            "0    False\n",
            "1    False\n",
            "2     True\n",
            "dtype: bool\n"
          ]
        }
      ],
      "source": [
        "#string operation\n",
        "import pandas as pd\n",
        "data=['Aswin','Don','Anna']\n",
        "S=pd.Series(data)\n",
        "print(S)\n",
        "#upper case\n",
        "print(S.str.upper())\n",
        "#lower case\n",
        "print(S.str.lower())\n",
        "#title\n",
        "print(S.str.title())\n",
        "#length\n",
        "print(S.str.len())\n",
        "#count\n",
        "print(S.count())\n",
        "#contain\n",
        "print(S.str.contains('a'))\n"
      ]
    },
    {
      "cell_type": "code",
      "execution_count": null,
      "metadata": {
        "colab": {
          "base_uri": "https://localhost:8080/"
        },
        "id": "5ri3VMIm3cHb",
        "outputId": "5679c847-1a38-4c50-f8bc-6db4ba9aaf9a"
      },
      "outputs": [
        {
          "name": "stdout",
          "output_type": "stream",
          "text": [
            "2025-07-04 05:18:31.112478\n"
          ]
        }
      ],
      "source": [
        "#pandas datetime operations\n",
        "import pandas as pd\n",
        "print(pd.Timestamp.now())\n"
      ]
    },
    {
      "cell_type": "code",
      "execution_count": null,
      "metadata": {
        "colab": {
          "base_uri": "https://localhost:8080/"
        },
        "id": "gQ2UV-Vu352T",
        "outputId": "8974ea76-86ae-4640-d998-b5e41a9aa3d9"
      },
      "outputs": [
        {
          "name": "stdout",
          "output_type": "stream",
          "text": [
            "0       Aswin\n",
            "1      samath\n",
            "2       trent\n",
            "3    aravinth\n",
            "dtype: object\n",
            "0         Aswin\n",
            "1    samath\\n\\t\n",
            "2     trent\\t\\n\n",
            "3      aravinth\n",
            "dtype: object\n",
            "0          !Aswin\n",
            "1      \\n\\nsamath\n",
            "2           trent\n",
            "3    \\n\\taravinth\n",
            "dtype: object\n"
          ]
        }
      ],
      "source": [
        "#remove whitespace and characters\n",
        "#strip and method in python\n",
        "import pandas as pd\n",
        "data=[\"!Aswin\",\"\\n\\nsamath\\n\\t\",\"trent\\t\\n\",\"\\n\\taravinth\"]\n",
        "S=pd.Series(data)\n",
        "#strip()\n",
        "print(S.str.strip(\"!\\n\\t\"))\n",
        "#lstrip()\n",
        "print(S.str.lstrip(\"!\\n\\t\"))\n",
        "#rstrip()\n",
        "print(S.str.rstrip(\"!\\n\\t\"))"
      ]
    },
    {
      "cell_type": "code",
      "execution_count": 56,
      "metadata": {
        "colab": {
          "base_uri": "https://localhost:8080/"
        },
        "id": "6k4uiUS56XJz",
        "outputId": "9b73573f-5ef6-42f1-a371-4747b025b717"
      },
      "outputs": [
        {
          "output_type": "stream",
          "name": "stdout",
          "text": [
            "  player  rank  year\n",
            "0   john     1  2023\n",
            "1  david     2  2024\n",
            "2   amar     3  2025\n",
            "        rank  year\n",
            "player            \n",
            "amar       3  2025\n",
            "david      2  2024\n",
            "john       1  2023\n"
          ]
        }
      ],
      "source": [
        "#groupby the data\n",
        "import pandas as pd\n",
        "data={\n",
        "    'player':['john','david','amar'],\n",
        "    'rank':[1,2,3],\n",
        "    'year':[2023,2024,2025]\n",
        "\n",
        "}\n",
        "df=pd.DataFrame(data)\n",
        "print(df)\n",
        "res=df.groupby('player')\n",
        "print(res.first())"
      ]
    },
    {
      "cell_type": "code",
      "source": [
        "#iterate\n",
        "#groupby the data\n",
        "import pandas as pd\n",
        "data={\n",
        "    'player':['john','david','amar'],\n",
        "    'rank':[1,2,3],\n",
        "    'year':[2023,2024,2025]\n",
        "\n",
        "}\n",
        "df=pd.DataFrame(data)\n",
        "print(df)\n",
        "res=df.groupby('player')\n",
        "for name,group in res:\n",
        "  print(name)\n",
        "  print(group)"
      ],
      "metadata": {
        "colab": {
          "base_uri": "https://localhost:8080/"
        },
        "id": "snv34Nx3-22z",
        "outputId": "5df8a3b8-f6b6-4117-8e4e-ab67dec7a63f"
      },
      "execution_count": 57,
      "outputs": [
        {
          "output_type": "stream",
          "name": "stdout",
          "text": [
            "  player  rank  year\n",
            "0   john     1  2023\n",
            "1  david     2  2024\n",
            "2   amar     3  2025\n",
            "amar\n",
            "  player  rank  year\n",
            "2   amar     3  2025\n",
            "david\n",
            "  player  rank  year\n",
            "1  david     2  2024\n",
            "john\n",
            "  player  rank  year\n",
            "0   john     1  2023\n"
          ]
        }
      ]
    },
    {
      "cell_type": "code",
      "source": [
        "#iterate\n",
        "#groupby the data\n",
        "import pandas as pd\n",
        "import numpy as np\n",
        "data={\n",
        "    'player':['john','david','amar'],\n",
        "    'rank':[1,2,3],\n",
        "    'year':[2023,2024,2025]\n",
        "\n",
        "}\n",
        "df=pd.DataFrame(data)\n",
        "print(df)\n",
        "res=df.groupby('player')\n",
        "print(res['year'].agg(np.mean))\n",
        "#size\n",
        "print(res.agg(np.size))"
      ],
      "metadata": {
        "colab": {
          "base_uri": "https://localhost:8080/"
        },
        "id": "e8FVvcfu_T5d",
        "outputId": "2d35f21e-59f2-4ccb-eb84-9e9b67fb9dbb"
      },
      "execution_count": 62,
      "outputs": [
        {
          "output_type": "stream",
          "name": "stdout",
          "text": [
            "  player  rank  year\n",
            "0   john     1  2023\n",
            "1  david     2  2024\n",
            "2   amar     3  2025\n",
            "player\n",
            "amar     2025.0\n",
            "david    2024.0\n",
            "john     2023.0\n",
            "Name: year, dtype: float64\n",
            "        rank  year\n",
            "player            \n",
            "amar       1     1\n",
            "david      1     1\n",
            "john       1     1\n"
          ]
        },
        {
          "output_type": "stream",
          "name": "stderr",
          "text": [
            "/tmp/ipython-input-62-3023147040.py:14: FutureWarning: The provided callable <function mean at 0x7ceb9e45e3e0> is currently using SeriesGroupBy.mean. In a future version of pandas, the provided callable will be used directly. To keep current behavior pass the string \"mean\" instead.\n",
            "  print(res['year'].agg(np.mean))\n"
          ]
        }
      ]
    },
    {
      "cell_type": "code",
      "source": [
        "# pandas statistical function\n",
        "\n",
        "import pandas as pd\n",
        "marks={\n",
        "    'maths':[90,85,98,80,55],\n",
        "    'science':[92,87,59,64,87],\n",
        "    'english':[95,94,84,75,67]\n",
        "\n",
        "}\n",
        "df=pd.DataFrame(marks)\n",
        "print(df)\n",
        "print(df.sum())\n",
        "print(df.max())\n",
        "print(df.min())\n",
        "print(df.mean())\n",
        "print(df.median())\n",
        "print(df.std())\n",
        "print(df.describe())"
      ],
      "metadata": {
        "colab": {
          "base_uri": "https://localhost:8080/"
        },
        "id": "EMvyhh5G_9ze",
        "outputId": "00f24feb-f639-4bab-de69-3c3956fb10bc"
      },
      "execution_count": 64,
      "outputs": [
        {
          "output_type": "stream",
          "name": "stdout",
          "text": [
            "   maths  science  english\n",
            "0     90       92       95\n",
            "1     85       87       94\n",
            "2     98       59       84\n",
            "3     80       64       75\n",
            "4     55       87       67\n",
            "maths      408\n",
            "science    389\n",
            "english    415\n",
            "dtype: int64\n",
            "maths      98\n",
            "science    92\n",
            "english    95\n",
            "dtype: int64\n",
            "maths      55\n",
            "science    59\n",
            "english    67\n",
            "dtype: int64\n",
            "maths      81.6\n",
            "science    77.8\n",
            "english    83.0\n",
            "dtype: float64\n",
            "maths      85.0\n",
            "science    87.0\n",
            "english    84.0\n",
            "dtype: float64\n",
            "maths      16.288032\n",
            "science    15.122830\n",
            "english    12.103718\n",
            "dtype: float64\n",
            "           maths   science    english\n",
            "count   5.000000   5.00000   5.000000\n",
            "mean   81.600000  77.80000  83.000000\n",
            "std    16.288032  15.12283  12.103718\n",
            "min    55.000000  59.00000  67.000000\n",
            "25%    80.000000  64.00000  75.000000\n",
            "50%    85.000000  87.00000  84.000000\n",
            "75%    90.000000  87.00000  94.000000\n",
            "max    98.000000  92.00000  95.000000\n"
          ]
        }
      ]
    },
    {
      "cell_type": "code",
      "source": [
        "# pandas plot\n",
        "import pandas as pd\n",
        "import matplotlib.pyplot as plt\n",
        "data={\n",
        "    'temperature':[18,20,22,19],\n",
        "    'humidity':[60,70,80,90],\n",
        "    'wind':[12,20,8,9],\n",
        "    'precipitation':[17,25,20,19]\n",
        "}\n",
        "df=pd.DataFrame(data)\n",
        "#plot\n",
        "df.plot()\n",
        "#display\n",
        "plt.show()"
      ],
      "metadata": {
        "colab": {
          "base_uri": "https://localhost:8080/",
          "height": 430
        },
        "id": "KrCJ9-DPBuUW",
        "outputId": "f9b5f72a-80c8-424f-96b0-4645d010bbae"
      },
      "execution_count": 65,
      "outputs": [
        {
          "output_type": "display_data",
          "data": {
            "text/plain": [
              "<Figure size 640x480 with 1 Axes>"
            ],
            "image/png": "[encoded data removed]"
          },
          "metadata": {}
        }
      ]
    },
    {
      "cell_type": "code",
      "source": [
        "#plot histogram\n",
        "import pandas as pd\n",
        "import matplotlib.pyplot as plt\n",
        "data={\n",
        "    'temperature':[18,20,22,19],\n",
        "    'humidity':[60,70,80,90],\n",
        "    'wind':[12,20,8,9],\n",
        "    'precipitation':[17,25,20,19]\n",
        "}\n",
        "df=pd.DataFrame(data)\n",
        "#plot a histogram\n",
        "df['humidity'].plot(kind='hist')\n",
        "#display\n",
        "plt.show()\n",
        "#"
      ],
      "metadata": {
        "colab": {
          "base_uri": "https://localhost:8080/",
          "height": 430
        },
        "id": "1-J04DyyCoCE",
        "outputId": "fa4b2db5-28a7-487e-e4b9-a56eaced9fc4"
      },
      "execution_count": 66,
      "outputs": [
        {
          "output_type": "display_data",
          "data": {
            "text/plain": [
              "<Figure size 640x480 with 1 Axes>"
            ],
            "image/png": "[encoded data removed]"
          },
          "metadata": {}
        }
      ]
    },
    {
      "cell_type": "code",
      "source": [
        "#piechart\n",
        "import pandas as pd\n",
        "import matplotlib.pyplot as plt\n",
        "data={\n",
        "    'temperature':[18,20,22,19],\n",
        "    'humidity':[60,70,80,90],\n",
        "    'wind':[12,20,8,9],\n",
        "    'precipitation':[17,25,20,19]\n",
        "}\n",
        "#create dataframe\n",
        "df=pd.DataFrame(data,index=['city1','city2','city3','city4'])\n",
        "#create pie chart\n",
        "df.plot.pie(y='humidity')\n",
        "plt.show()"
      ],
      "metadata": {
        "colab": {
          "base_uri": "https://localhost:8080/",
          "height": 406
        },
        "id": "y0VyYloaDIaw",
        "outputId": "88caa222-83b4-41f9-a1ca-c4b9ca90d073"
      },
      "execution_count": 67,
      "outputs": [
        {
          "output_type": "display_data",
          "data": {
            "text/plain": [
              "<Figure size 640x480 with 1 Axes>"
            ],
            "image/png": "[encoded data removed]"
          },
          "metadata": {}
        }
      ]
    },
    {
      "cell_type": "code",
      "source": [
        "#create a scatter plot\n",
        "import pandas as pd\n",
        "import matplotlib.pyplot as plt\n",
        "data={\n",
        "    'temperature':[18,20,22,19],\n",
        "    'humidity':[60,70,80,90],\n",
        "    'wind':[12,20,8,9],\n",
        "    'precipitation':[17,25,20,19]\n",
        "}\n",
        "df=pd.DataFrame(data)\n",
        "df.plot(kind='scatter',x='temperature',y='humidity')\n",
        "plt.show()"
      ],
      "metadata": {
        "colab": {
          "base_uri": "https://localhost:8080/",
          "height": 449
        },
        "id": "uWmTO_jnD24-",
        "outputId": "1d7c57e8-1c77-488a-9efa-cfad8059f6b4"
      },
      "execution_count": 68,
      "outputs": [
        {
          "output_type": "display_data",
          "data": {
            "text/plain": [
              "<Figure size 640x480 with 1 Axes>"
            ],
            "image/png": "[encoded data removed]"
          },
          "metadata": {}
        }
      ]
    },
    {
      "cell_type": "code",
      "source": [
        "#area plot\n",
        "import pandas as pd\n",
        "import matplotlib.pyplot as plt\n",
        "data={\n",
        "    'temperature':[18,20,22,19],\n",
        "    'humidity':[60,70,80,90],\n",
        "    'wind':[12,20,8,9],\n",
        "    'precipitation':[17,25,20,19]\n",
        "}\n",
        "df=pd.DataFrame(data)\n",
        "#area plot\n",
        "df.plot.area()\n",
        "#display the fig\n",
        "plt.show()"
      ],
      "metadata": {
        "colab": {
          "base_uri": "https://localhost:8080/",
          "height": 430
        },
        "id": "1vtJkooREP_n",
        "outputId": "0182c070-63d8-4a53-8d83-933d4edf219e"
      },
      "execution_count": 70,
      "outputs": [
        {
          "output_type": "display_data",
          "data": {
            "text/plain": [
              "<Figure size 640x480 with 1 Axes>"
            ],
            "image/png": "[encoded data removed]"
          },
          "metadata": {}
        }
      ]
    }
  ],
  "metadata": {
    "colab": {
      "provenance": [],
      "authorship_tag": "ABX9TyMCtFIkvRVKJMkza5oqar3P",
      "include_colab_link": true
    },
    "kernelspec": {
      "display_name": "Python 3",
      "name": "python3"
    },
    "language_info": {
      "name": "python"
    }
  },
  "nbformat": 4,
  "nbformat_minor": 0
}