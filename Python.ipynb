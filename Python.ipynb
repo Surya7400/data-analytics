{
  "cells": [
    {
      "cell_type": "markdown",
      "metadata": {
        "id": "view-in-github",
        "colab_type": "text"
      },
      "source": [
        "<a href=\"https://colab.research.google.com/github/Surya7400/data-analytics/blob/main/Python.ipynb\" target=\"_parent\"><img src=\"https://colab.research.google.com/assets/colab-badge.svg\" alt=\"Open In Colab\"/></a>"
      ]
    },
    {
      "cell_type": "code",
      "execution_count": null,
      "metadata": {
        "colab": {
          "base_uri": "https://localhost:8080/"
        },
        "id": "FbA5_2iPlBi0",
        "outputId": "35c11872-8eb3-4486-eed1-20fd964e3a8a"
      },
      "outputs": [
        {
          "name": "stdout",
          "output_type": "stream",
          "text": [
            "25 <class 'int'>\n",
            "56.7 <class 'float'>\n",
            "sam kumar <class 'str'>\n",
            "sam kumar 133080624560816\n",
            "True <class 'bool'>\n",
            "None <class 'NoneType'>\n",
            "<class 'str'>\n"
          ]
        }
      ],
      "source": [
        "#variables\n",
        "age=25\n",
        "weight=56.7\n",
        "name=\"sam kumar\"\n",
        "is_active=True\n",
        "address=None\n",
        "#integer\n",
        "print(age,type(age))\n",
        "#float\n",
        "print(weight,type(weight))\n",
        "#string\n",
        "print(name,type(name))\n",
        "#id\n",
        "print(name,id(name))\n",
        "#boolean\n",
        "print(is_active,type(is_active))\n",
        "#Null\n",
        "print(address,type(address))\n"
      ]
    },
    {
      "cell_type": "code",
      "execution_count": null,
      "metadata": {
        "colab": {
          "base_uri": "https://localhost:8080/"
        },
        "id": "nIeSQ_i448Po",
        "outputId": "4c0fa19a-f40a-492d-a7b7-c35ea121d6d5"
      },
      "outputs": [
        {
          "name": "stdout",
          "output_type": "stream",
          "text": [
            "this hotel food is chicken Rice\n"
          ]
        }
      ],
      "source": [
        "#local variable\n",
        "def hotel():\n",
        "  food=\"chicken Rice\"\n",
        "  print(\"this hotel food is\",food)\n",
        "hotel()\n"
      ]
    },
    {
      "cell_type": "code",
      "execution_count": null,
      "metadata": {
        "colab": {
          "base_uri": "https://localhost:8080/"
        },
        "id": "oKWg0byn92P5",
        "outputId": "3284e386-b6fd-4cfa-b399-ddb6d928a46f"
      },
      "outputs": [
        {
          "name": "stdout",
          "output_type": "stream",
          "text": [
            "Serve this room curd Rice\n"
          ]
        }
      ],
      "source": [
        "#Enclosing variable\n",
        "def home():\n",
        "  food=\"curd Rice\"\n",
        "  def Room():\n",
        "    print(\"Serve this room\",food)\n",
        "  Room()\n",
        "home()"
      ]
    },
    {
      "cell_type": "code",
      "execution_count": null,
      "metadata": {
        "colab": {
          "base_uri": "https://localhost:8080/"
        },
        "id": "46nmKpfp-dNp",
        "outputId": "5f8286f8-936a-4a05-827a-edf7cd1718b4"
      },
      "outputs": [
        {
          "name": "stdout",
          "output_type": "stream",
          "text": [
            "sam\n",
            "this order is: pizza delivery sam\n"
          ]
        }
      ],
      "source": [
        "#global variable\n",
        "food_delivery=\"sam\"\n",
        "def online():\n",
        "   item =\"pizza\"\n",
        "   print(food_delivery)\n",
        "   def order():\n",
        "    print(\"this order is:\",f\"{item} delivery {food_delivery}\")\n",
        "   order()\n",
        "online()"
      ]
    },
    {
      "cell_type": "code",
      "execution_count": null,
      "metadata": {
        "colab": {
          "base_uri": "https://localhost:8080/"
        },
        "id": "DiaaatF5_91l",
        "outputId": "2a0c6678-bf9e-47ea-ca05-8e1149356439"
      },
      "outputs": [
        {
          "name": "stdout",
          "output_type": "stream",
          "text": [
            "10\n",
            "10.3\n"
          ]
        }
      ],
      "source": [
        "a=\"10\"\n",
        "print(int(a))\n",
        "b=\"10.3\"\n",
        "print(float(b))\n"
      ]
    },
    {
      "cell_type": "code",
      "execution_count": null,
      "metadata": {
        "colab": {
          "base_uri": "https://localhost:8080/"
        },
        "id": "VrlTIWzuImGr",
        "outputId": "0e262fe2-49c4-4f5e-d4eb-d3d29decfbdf"
      },
      "outputs": [
        {
          "name": "stdout",
          "output_type": "stream",
          "text": [
            "11\n"
          ]
        }
      ],
      "source": [
        "#expression\n",
        "x=5+6\n",
        "print(x)"
      ]
    },
    {
      "cell_type": "code",
      "execution_count": null,
      "metadata": {
        "colab": {
          "base_uri": "https://localhost:8080/"
        },
        "id": "gQcbbQmXI4ro",
        "outputId": "c48246a7-9838-4b3e-8e79-433077b32185"
      },
      "outputs": [
        {
          "name": "stdout",
          "output_type": "stream",
          "text": [
            "13\n",
            "7\n",
            "30\n",
            "3.3333333333333335\n",
            "1\n",
            "1000\n",
            "3\n"
          ]
        }
      ],
      "source": [
        "#arithmetic operation\n",
        "a=10\n",
        "b=3\n",
        "print(a+b)#addition\n",
        "print(a-b)#sub\n",
        "print(a*b)#mul\n",
        "print(a/b)#div\n",
        "print(a%b)#mod\n",
        "print(a**b)#10*10*10\n",
        "print(a//b)# given hole number"
      ]
    },
    {
      "cell_type": "code",
      "execution_count": null,
      "metadata": {
        "colab": {
          "base_uri": "https://localhost:8080/"
        },
        "id": "tNdJYhSoKeK4",
        "outputId": "b7c217fc-7c2c-4b85-d0d7-c2ea0ab46e87"
      },
      "outputs": [
        {
          "name": "stdout",
          "output_type": "stream",
          "text": [
            "False\n",
            "True\n",
            "True\n",
            "False\n"
          ]
        }
      ],
      "source": [
        "#comparision\n",
        "x=5\n",
        "y=10\n",
        "print(x==y)#check equal or not\n",
        "print(x!=y)#check not equal\n",
        "print(x<y) #less than\n",
        "print(x>y) #greater than"
      ]
    },
    {
      "cell_type": "code",
      "execution_count": null,
      "metadata": {
        "colab": {
          "base_uri": "https://localhost:8080/"
        },
        "id": "OUJw7OgILPk0",
        "outputId": "dd18c3a1-3598-4552-cd29-1d64c8528d3a"
      },
      "outputs": [
        {
          "name": "stdout",
          "output_type": "stream",
          "text": [
            "False\n",
            "True\n",
            "False\n",
            "True\n"
          ]
        }
      ],
      "source": [
        "#logical\n",
        "g=True\n",
        "v=False\n",
        "print(g and v)\n",
        "print(g or v)\n",
        "print(not g)\n",
        "print(not v)"
      ]
    },
    {
      "cell_type": "code",
      "execution_count": null,
      "metadata": {
        "colab": {
          "base_uri": "https://localhost:8080/"
        },
        "id": "e2Al9tcaMU4I",
        "outputId": "8ce6650e-23de-4cbc-e3d4-ff6ae14bdd91"
      },
      "outputs": [
        {
          "name": "stdout",
          "output_type": "stream",
          "text": [
            "1416.0\n",
            "total amount 1274.4\n"
          ]
        }
      ],
      "source": [
        "#branch if\n",
        "amount=1200\n",
        "tax=amount*0.18\n",
        "total=amount+tax\n",
        "print(total)\n",
        "if total>1000:\n",
        "   discount=total*0.10\n",
        "   total-=discount\n",
        "   print(\"total amount\",total)"
      ]
    },
    {
      "cell_type": "code",
      "execution_count": null,
      "metadata": {
        "colab": {
          "base_uri": "https://localhost:8080/"
        },
        "id": "_7NrV6x-OU68",
        "outputId": "862ca48d-7512-42f5-e845-e78eeefe400c"
      },
      "outputs": [
        {
          "name": "stdout",
          "output_type": "stream",
          "text": [
            "yes you are eligible for discount\n"
          ]
        }
      ],
      "source": [
        "age=65\n",
        "student='yes'\n",
        "if age>=60 or student=='yes':\n",
        "  print(\"yes you are eligible for discount\")\n",
        "else:\n",
        "  print(\"no you are not eligible for discount\")"
      ]
    },
    {
      "cell_type": "code",
      "execution_count": null,
      "metadata": {
        "colab": {
          "base_uri": "https://localhost:8080/"
        },
        "id": "easXJ_VVvybZ",
        "outputId": "c12bc3ef-5256-48ee-d6a4-c3f4329ea151"
      },
      "outputs": [
        {
          "name": "stdout",
          "output_type": "stream",
          "text": [
            "enter your age:20\n",
            "are you student, yes/No:yes\n",
            "not eligible for laber\n"
          ]
        }
      ],
      "source": [
        "age=int(input(\"enter your age:\"))\n",
        "student =input('are you student, yes/No:')\n",
        "if age>=18 and student == \"no\":\n",
        "  print(\"eligible to the laber\")\n",
        "else:\n",
        "  print(\"not eligible for laber\")"
      ]
    },
    {
      "cell_type": "code",
      "execution_count": null,
      "metadata": {
        "colab": {
          "base_uri": "https://localhost:8080/"
        },
        "id": "47jV9X1P02vn",
        "outputId": "ff9f954a-80b8-4594-a2bd-146980385747"
      },
      "outputs": [
        {
          "name": "stdout",
          "output_type": "stream",
          "text": [
            "\n",
            "user profile\n",
            "\n",
            "-f\n",
            ".-.f.@company.com\n"
          ]
        }
      ],
      "source": [
        "import sys\n",
        "fullname=sys.argv[1]\n",
        "email=fullname.lower().replace(\"\",\".\")+\"@company.com\"\n",
        "print(\"\\nuser profile\\n\")\n",
        "print(fullname)\n",
        "print(email)"
      ]
    },
    {
      "cell_type": "code",
      "execution_count": null,
      "metadata": {
        "colab": {
          "base_uri": "https://localhost:8080/"
        },
        "id": "WzPNLFqzEMts",
        "outputId": "1c461333-7cb5-4df0-f18d-348cf402706f"
      },
      "outputs": [
        {
          "name": "stdout",
          "output_type": "stream",
          "text": [
            "this is true\n"
          ]
        }
      ],
      "source": [
        "if(True):\n",
        "  print(\"this is true\")\n",
        "else:\n",
        "  print(\"this is false\")"
      ]
    },
    {
      "cell_type": "code",
      "execution_count": null,
      "metadata": {
        "colab": {
          "base_uri": "https://localhost:8080/"
        },
        "id": "IjGvPmg6EW1e",
        "outputId": "16f51250-7558-4ff4-a9b0-2596603eb9ec"
      },
      "outputs": [
        {
          "name": "stdout",
          "output_type": "stream",
          "text": [
            "enter your live status:Died\n",
            "surya meet priya\n"
          ]
        }
      ],
      "source": [
        "meghna=input(\"enter your live status:\")\n",
        "if meghna=='Died':\n",
        "  print(\"surya meet priya\")\n",
        "else:\n",
        "  print(\"surya weds meghna\")"
      ]
    },
    {
      "cell_type": "code",
      "execution_count": null,
      "metadata": {
        "colab": {
          "base_uri": "https://localhost:8080/"
        },
        "id": "aj6QU0gXFYN-",
        "outputId": "e9842271-9831-47cf-bca8-814aa60202bb"
      },
      "outputs": [
        {
          "name": "stdout",
          "output_type": "stream",
          "text": [
            "enter your marks:35\n",
            "you are pass the exam\n"
          ]
        }
      ],
      "source": [
        "mark=int(input(\"enter your marks:\"))\n",
        "if mark>=35:\n",
        "  print(\"you are pass the exam\")\n",
        "else:\n",
        "   print(\"you are fail the exam\")"
      ]
    },
    {
      "cell_type": "code",
      "execution_count": null,
      "metadata": {
        "colab": {
          "base_uri": "https://localhost:8080/"
        },
        "id": "lHVIat9QG9Mv",
        "outputId": "63706f40-7bc5-468e-e8c5-ba38bb06d799"
      },
      "outputs": [
        {
          "name": "stdout",
          "output_type": "stream",
          "text": [
            "enter your income:7200\n",
            "you are not eligible for scholarship\n"
          ]
        }
      ],
      "source": [
        "income=int(input(\"enter your income:\"))\n",
        "if income<7000:\n",
        "  print(\"you are eligible for scholarship\")\n",
        "else:\n",
        "   print(\"you are not eligible for scholarship\")"
      ]
    },
    {
      "cell_type": "code",
      "execution_count": null,
      "metadata": {
        "colab": {
          "base_uri": "https://localhost:8080/"
        },
        "id": "PcH3ysjhIJKA",
        "outputId": "ee6d245d-a4ee-4b91-a96a-7639b07b878f"
      },
      "outputs": [
        {
          "name": "stdout",
          "output_type": "stream",
          "text": [
            "enter divisible by 3 and 515\n",
            "divisible by 3 and 5\n"
          ]
        }
      ],
      "source": [
        "number=int(input(\"enter divisible by 3 and 5\"))\n",
        "if number%3==0 and number%5==0:\n",
        "  print(\"divisible by 3 and 5\")\n",
        "else:\n",
        "  print(\"not divisible by 3 and 5\")"
      ]
    },
    {
      "cell_type": "code",
      "execution_count": null,
      "metadata": {
        "colab": {
          "base_uri": "https://localhost:8080/"
        },
        "id": "AQTvetzmIz3g",
        "outputId": "fbb5f98d-8416-45ef-9c6e-9fdbce7c469d"
      },
      "outputs": [
        {
          "name": "stdout",
          "output_type": "stream",
          "text": [
            "enter the number:4\n",
            "even number\n"
          ]
        }
      ],
      "source": [
        "#find the number odd or even\n",
        "f_number=int(input(\"enter the number:\"))\n",
        "if f_number%2==0:\n",
        "  print(\"even number\")\n",
        "else:\n",
        "  print(\"odd number\")"
      ]
    },
    {
      "cell_type": "code",
      "execution_count": null,
      "metadata": {
        "colab": {
          "base_uri": "https://localhost:8080/"
        },
        "id": "-W2v5mz-Jjs2",
        "outputId": "00cd82fd-b323-490e-a315-5d91766345ef"
      },
      "outputs": [
        {
          "name": "stdout",
          "output_type": "stream",
          "text": [
            "enter your marks:56\n",
            "average student\n"
          ]
        }
      ],
      "source": [
        "#student rank status\n",
        "g_marks=int(input(\"enter your marks:\"))\n",
        "if g_marks<35:\n",
        "  print(\"poor student\")\n",
        "if g_marks>35 and g_marks<70:\n",
        "  print(\"average student\")\n",
        "if g_marks>70:\n",
        "  print(\"good student\")\n"
      ]
    },
    {
      "cell_type": "code",
      "execution_count": null,
      "metadata": {
        "colab": {
          "base_uri": "https://localhost:8080/"
        },
        "id": "cfCsRgYaA4e0",
        "outputId": "875d00fc-53b5-4c95-e287-35989b948774"
      },
      "outputs": [
        {
          "name": "stdout",
          "output_type": "stream",
          "text": [
            "enter the marks:25\n",
            "poor student\n"
          ]
        }
      ],
      "source": [
        "M_score=int(input(\"enter the marks:\"))\n",
        "if M_score<35:\n",
        "  print(\"poor student\")\n",
        "elif(M_score>35 and M_score<70):\n",
        "  print(\"average student\")\n",
        "elif(M_score>70 and M_score<10):\n",
        "  print(\"good student\")\n",
        "else:\n",
        "   print(\"invalid number\")"
      ]
    },
    {
      "cell_type": "code",
      "execution_count": null,
      "metadata": {
        "colab": {
          "base_uri": "https://localhost:8080/"
        },
        "id": "xPruYLCUB5Z1",
        "outputId": "3d0a5d55-7b61-4f56-b17d-1049ebdaae41"
      },
      "outputs": [
        {
          "name": "stdout",
          "output_type": "stream",
          "text": [
            "enter the number A:23\n",
            "enter the number B34\n",
            "add/sub/mul/divadd\n",
            "57\n"
          ]
        }
      ],
      "source": [
        "a=int(input(\"enter the number A:\"))\n",
        "b=int(input(\"enter the number B\"))\n",
        "operation=input(\"add/sub/mul/div\")\n",
        "if operation==\"add\":\n",
        "   print(a+b)\n",
        "elif operation==\"sub\":\n",
        "  print(a-b)\n",
        "elif operation==\"mul\":\n",
        "  print(a*b)\n",
        "elif operation==\"div\":\n",
        "  print(a/b)\n",
        "else:\n",
        "  print(\"invalid number\")"
      ]
    },
    {
      "cell_type": "code",
      "execution_count": null,
      "metadata": {
        "colab": {
          "base_uri": "https://localhost:8080/"
        },
        "id": "SeZgaaxrDSpr",
        "outputId": "afa6a56c-13cd-4b9d-fd50-5b0e81de3009"
      },
      "outputs": [
        {
          "name": "stdout",
          "output_type": "stream",
          "text": [
            "enter the value:20000\n",
            "enter the age:26\n",
            "enter the loan value:52000\n",
            "maximum loan amount\n"
          ]
        }
      ],
      "source": [
        "salary=int(input(\"enter the value:\"))\n",
        "age=int(input(\"enter the age:\"))\n",
        "if salary>=20000 or age<=25:\n",
        "   loan=int(input(\"enter the loan value:\"))\n",
        "   if loan>50000:\n",
        "       print(\"maximum loan amount\")\n",
        "   else:\n",
        "    print(\"eligible for loan\")\n",
        "else:\n",
        "   print(\"not eligible for vote:\")"
      ]
    },
    {
      "cell_type": "code",
      "execution_count": null,
      "metadata": {
        "colab": {
          "base_uri": "https://localhost:8080/"
        },
        "id": "CNjfjgiyLsC5",
        "outputId": "9b49f628-fe73-4816-8ae2-53804dc0afaa"
      },
      "outputs": [
        {
          "name": "stdout",
          "output_type": "stream",
          "text": [
            "enter the subject 1 marks:35\n",
            "enter the subject 2 marks:35\n",
            "enter the subject 3 marks:35\n",
            "enter the subject 4 marks:35\n",
            "enter the subject 5 marks:35\n",
            "total marks: 175\n",
            "you are good to go\n"
          ]
        }
      ],
      "source": [
        "a=int(input(\"enter the subject 1 marks:\"))\n",
        "b=int(input(\"enter the subject 2 marks:\"))\n",
        "c=int(input(\"enter the subject 3 marks:\"))\n",
        "d=int(input(\"enter the subject 4 marks:\"))\n",
        "e=int(input(\"enter the subject 5 marks:\"))\n",
        "total=a+b+c+d+e\n",
        "print(\"total marks:\",total)\n",
        "average=total/5\n",
        "if total<35:\n",
        "   print(\"additional class required\")\n",
        "else:\n",
        "   print(\"you are good to go\")"
      ]
    },
    {
      "cell_type": "code",
      "execution_count": null,
      "metadata": {
        "colab": {
          "base_uri": "https://localhost:8080/"
        },
        "id": "_Tv8_-D8UK3A",
        "outputId": "56bfdc36-90c9-4752-d2de-f3dc97cb01b8"
      },
      "outputs": [
        {
          "name": "stdout",
          "output_type": "stream",
          "text": [
            "a\n",
            "p\n",
            "p\n",
            "l\n",
            "e\n"
          ]
        }
      ],
      "source": [
        "#for loop\n",
        "for i in \"apple\":\n",
        "  print(i)"
      ]
    },
    {
      "cell_type": "code",
      "execution_count": null,
      "metadata": {
        "colab": {
          "base_uri": "https://localhost:8080/"
        },
        "id": "UAIdFJ_QVvos",
        "outputId": "c3234a97-6fc5-4f08-dde2-30064d7d725a"
      },
      "outputs": [
        {
          "name": "stdout",
          "output_type": "stream",
          "text": [
            "0\n",
            "1\n",
            "2\n",
            "3\n",
            "4\n",
            "5\n"
          ]
        }
      ],
      "source": [
        "for i in range(6):\n",
        "  print(i)"
      ]
    },
    {
      "cell_type": "code",
      "execution_count": null,
      "metadata": {
        "colab": {
          "base_uri": "https://localhost:8080/"
        },
        "id": "wlQCmNFvV-5Z",
        "outputId": "cab7c9fe-eff2-4291-ddf7-655b0ebe3652"
      },
      "outputs": [
        {
          "name": "stdout",
          "output_type": "stream",
          "text": [
            "1 x2= 2\n",
            "2 x2= 4\n",
            "3 x2= 6\n",
            "4 x2= 8\n",
            "5 x2= 10\n",
            "6 x2= 12\n",
            "7 x2= 14\n",
            "8 x2= 16\n",
            "9 x2= 18\n",
            "10 x2= 20\n"
          ]
        }
      ],
      "source": [
        "#using for create 2 table\n",
        "for i in range(1,11):\n",
        " print(i,\"x2=\",i*2)"
      ]
    },
    {
      "cell_type": "code",
      "execution_count": null,
      "metadata": {
        "colab": {
          "base_uri": "https://localhost:8080/"
        },
        "id": "hXA_3WELXBJ5",
        "outputId": "4cb6e58c-ba37-4dfd-ec68-ec3ea0ba308d"
      },
      "outputs": [
        {
          "name": "stdout",
          "output_type": "stream",
          "text": [
            "1 x15 15\n",
            "2 x15 30\n",
            "3 x15 45\n",
            "4 x15 60\n",
            "5 x15 75\n",
            "6 x15 90\n",
            "7 x15 105\n",
            "8 x15 120\n",
            "9 x15 135\n",
            "10 x15 150\n"
          ]
        }
      ],
      "source": [
        "#create 15 table\n",
        "for i in range(1,11):\n",
        "  print(i,\"x15\",i*15)"
      ]
    },
    {
      "cell_type": "code",
      "execution_count": null,
      "metadata": {
        "colab": {
          "base_uri": "https://localhost:8080/"
        },
        "id": "0w9t7mQ4XoWt",
        "outputId": "28d31725-9c84-447e-a855-c3a0a0a50e25"
      },
      "outputs": [
        {
          "name": "stdout",
          "output_type": "stream",
          "text": [
            "enter the num a:22\n",
            "enter the num b:34\n",
            "22\n",
            "23\n",
            "24\n",
            "25\n",
            "26\n",
            "27\n",
            "28\n",
            "29\n",
            "30\n",
            "31\n",
            "32\n",
            "33\n"
          ]
        }
      ],
      "source": [
        "#print between numbers\n",
        "a=int(input(\"enter the num a:\"))\n",
        "b=int(input(\"enter the num b:\"))\n",
        "for i in range(a,b):\n",
        "  print(i)"
      ]
    },
    {
      "cell_type": "code",
      "execution_count": null,
      "metadata": {
        "colab": {
          "base_uri": "https://localhost:8080/"
        },
        "id": "igmATsO9YMMl",
        "outputId": "2e40f936-fcb3-4774-97de-cf0d175990fe"
      },
      "outputs": [
        {
          "name": "stdout",
          "output_type": "stream",
          "text": [
            "2\n",
            "4\n",
            "6\n",
            "8\n",
            "10\n"
          ]
        }
      ],
      "source": [
        "for i in range(1,11):\n",
        "  if(i%2==0):\n",
        "    print(i)"
      ]
    },
    {
      "cell_type": "code",
      "execution_count": null,
      "metadata": {
        "colab": {
          "base_uri": "https://localhost:8080/"
        },
        "id": "4oFILv-XY-7A",
        "outputId": "295a32a1-cb70-486d-eb65-acc59b810aa1"
      },
      "outputs": [
        {
          "name": "stdout",
          "output_type": "stream",
          "text": [
            "Count of even numbers from 1 to 10: 5\n"
          ]
        }
      ],
      "source": [
        "count = 0\n",
        "for i in range(1, 11):\n",
        "    if i % 2 == 0:\n",
        "        count += 1\n",
        "\n",
        "print(\"Count of even numbers from 1 to 10:\", count)\n",
        "\n"
      ]
    },
    {
      "cell_type": "code",
      "execution_count": null,
      "metadata": {
        "colab": {
          "base_uri": "https://localhost:8080/"
        },
        "id": "e8h3YafSbffb",
        "outputId": "83cfe274-f577-4f89-bde9-bf8c58e12166"
      },
      "outputs": [
        {
          "name": "stdout",
          "output_type": "stream",
          "text": [
            "Count of even numbers from 1 to 10: 5\n",
            "count of odd numbers from 1 to 10: 5\n"
          ]
        }
      ],
      "source": [
        "o_count = 0\n",
        "e_count=0\n",
        "for i in range(1, 11):\n",
        "    if i % 2 == 0:\n",
        "        e_count += 1\n",
        "    else:\n",
        "        o_count+=1\n",
        "print(\"Count of even numbers from 1 to 10:\", e_count)\n",
        "print(\"count of odd numbers from 1 to 10:\",o_count)\n"
      ]
    },
    {
      "cell_type": "code",
      "execution_count": null,
      "metadata": {
        "colab": {
          "base_uri": "https://localhost:8080/"
        },
        "id": "F68zX9jTdQWS",
        "outputId": "e612f47d-a90b-460f-e3d3-6913dbba40c7"
      },
      "outputs": [
        {
          "name": "stdout",
          "output_type": "stream",
          "text": [
            "[10, 20, 30, 40]\n",
            "[10, 20, 30]\n"
          ]
        }
      ],
      "source": [
        "a=[]\n",
        "#add the number list\n",
        "a.append(10)\n",
        "a.append(20)\n",
        "a.append(30)\n",
        "a.append(40)\n",
        "print(a)\n",
        "#remove the number using index\n",
        "a.pop(3)\n",
        "print(a)"
      ]
    },
    {
      "cell_type": "code",
      "execution_count": null,
      "metadata": {
        "colab": {
          "base_uri": "https://localhost:8080/"
        },
        "id": "94XO1wJCLAHc",
        "outputId": "dce2b277-9cb9-4e77-caa4-b27d1c648b3b"
      },
      "outputs": [
        {
          "name": "stdout",
          "output_type": "stream",
          "text": [
            "23\n",
            "24\n",
            "25\n",
            "26\n",
            "27\n",
            "28\n",
            "29\n",
            "30\n",
            "31\n",
            "32\n",
            "[23, 24, 25, 26, 27, 28, 29, 30, 31, 32]\n"
          ]
        }
      ],
      "source": [
        "a=[]\n",
        "for i in range(10):\n",
        "  num=int(input())\n",
        "  a.append(num)\n",
        "print(a)"
      ]
    },
    {
      "cell_type": "code",
      "execution_count": null,
      "metadata": {
        "colab": {
          "base_uri": "https://localhost:8080/"
        },
        "id": "ZZVMccDzMk6I",
        "outputId": "29a9b4ff-e425-40a5-bef5-38afa698a570"
      },
      "outputs": [
        {
          "name": "stdout",
          "output_type": "stream",
          "text": [
            "1\n",
            "8\n",
            "27\n",
            "64\n",
            "125\n"
          ]
        }
      ],
      "source": [
        "for i in range(1,6):\n",
        "  print(i*i*i)"
      ]
    },
    {
      "cell_type": "code",
      "execution_count": null,
      "metadata": {
        "colab": {
          "base_uri": "https://localhost:8080/"
        },
        "id": "d85jhOpyV8KD",
        "outputId": "602cc4a3-1985-4cba-c2c8-d46055a305e6"
      },
      "outputs": [
        {
          "name": "stdout",
          "output_type": "stream",
          "text": [
            "1 apple\n",
            "3 banana\n",
            "2 apple\n",
            "3 banana\n",
            "1 apple\n",
            "4 banana\n",
            "2 apple\n",
            "4 banana\n",
            "1 apple\n",
            "5 banana\n",
            "2 apple\n",
            "5 banana\n"
          ]
        }
      ],
      "source": [
        "for i in range(3,6):\n",
        "    for j in range(1,3):\n",
        "        print(j,\"apple\")\n",
        "        print(i,\"banana\")"
      ]
    },
    {
      "cell_type": "code",
      "execution_count": null,
      "metadata": {
        "colab": {
          "base_uri": "https://localhost:8080/"
        },
        "id": "weaf9in_ZizJ",
        "outputId": "4df971a3-07b3-483b-e332-649becff1ad0"
      },
      "outputs": [
        {
          "name": "stdout",
          "output_type": "stream",
          "text": [
            "week 1\n",
            "Day 1\n",
            "week 1\n",
            "Day 2\n",
            "week 1\n",
            "Day 3\n",
            "week 1\n",
            "Day 4\n",
            "week 1\n",
            "Day 5\n",
            "week 1\n",
            "Day 6\n",
            "week 1\n",
            "Day 7\n",
            "week 2\n",
            "Day 1\n",
            "week 2\n",
            "Day 2\n",
            "week 2\n",
            "Day 3\n",
            "week 2\n",
            "Day 4\n",
            "week 2\n",
            "Day 5\n",
            "week 2\n",
            "Day 6\n",
            "week 2\n",
            "Day 7\n",
            "week 3\n",
            "Day 1\n",
            "week 3\n",
            "Day 2\n",
            "week 3\n",
            "Day 3\n",
            "week 3\n",
            "Day 4\n",
            "week 3\n",
            "Day 5\n",
            "week 3\n",
            "Day 6\n",
            "week 3\n",
            "Day 7\n"
          ]
        }
      ],
      "source": [
        "for i in range(1,4):\n",
        "    for j  in range(1,8):\n",
        "       print(\"week\",i)\n",
        "       print(\"Day\",j)"
      ]
    },
    {
      "cell_type": "code",
      "execution_count": null,
      "metadata": {
        "colab": {
          "base_uri": "https://localhost:8080/"
        },
        "id": "sSeU89mRdMKB",
        "outputId": "8f3c4a66-7002-473b-c07d-ce797073887c"
      },
      "outputs": [
        {
          "name": "stdout",
          "output_type": "stream",
          "text": [
            "0\n"
          ]
        }
      ],
      "source": [
        "#while loop\n",
        "i=0\n",
        "while i==0:\n",
        "      print(i)\n",
        "      i+=1;"
      ]
    },
    {
      "cell_type": "code",
      "execution_count": null,
      "metadata": {
        "colab": {
          "base_uri": "https://localhost:8080/"
        },
        "id": "BywIxOVdheI7",
        "outputId": "b7d01ea0-5b07-4320-e8cc-74a2a2747dbf"
      },
      "outputs": [
        {
          "name": "stdout",
          "output_type": "stream",
          "text": [
            "0\n"
          ]
        }
      ],
      "source": [
        "i=0\n",
        "while i%2==0:\n",
        "      print(i)\n",
        "      i+=1;\n"
      ]
    },
    {
      "cell_type": "code",
      "execution_count": null,
      "metadata": {
        "colab": {
          "base_uri": "https://localhost:8080/"
        },
        "id": "4hKwxJIrugpj",
        "outputId": "bbdb0279-ee83-474f-e21b-a9d0f0e92648"
      },
      "outputs": [
        {
          "name": "stdout",
          "output_type": "stream",
          "text": [
            "0\n",
            "1\n",
            "2\n",
            "3\n",
            "4\n"
          ]
        }
      ],
      "source": [
        "i=0\n",
        "while i<5:\n",
        "    print(i)\n",
        "    i+=1;"
      ]
    },
    {
      "cell_type": "code",
      "execution_count": null,
      "metadata": {
        "colab": {
          "base_uri": "https://localhost:8080/"
        },
        "id": "bv1fO5cyvUIw",
        "outputId": "dd6aee20-d2c0-42f3-d995-7141d2c5b47f"
      },
      "outputs": [
        {
          "name": "stdout",
          "output_type": "stream",
          "text": [
            "10\n",
            "20\n",
            "30\n",
            "40\n",
            "50\n",
            "60\n",
            "70\n",
            "80\n",
            "90\n",
            "100\n",
            "110\n",
            "120\n",
            "130\n",
            "140\n",
            "150\n",
            "160\n",
            "170\n",
            "180\n",
            "190\n",
            "200\n"
          ]
        }
      ],
      "source": [
        "i=10\n",
        "while i<201:\n",
        "  print(i)\n",
        "  i+=10;"
      ]
    },
    {
      "cell_type": "code",
      "execution_count": null,
      "metadata": {
        "id": "SH0roSXL17JI"
      },
      "outputs": [],
      "source": [
        "i=5\n",
        "fact=1\n",
        "while i>0:\n",
        "    fact*=i\n",
        "    i-=1\n",
        "print(i)"
      ]
    },
    {
      "cell_type": "code",
      "execution_count": null,
      "metadata": {
        "colab": {
          "base_uri": "https://localhost:8080/"
        },
        "id": "yjm3wOA_L480",
        "outputId": "7eb5e912-59dd-4e82-e2cd-ea72816e3bc1"
      },
      "outputs": [
        {
          "name": "stdout",
          "output_type": "stream",
          "text": [
            "[1, 2, 3, 4]\n",
            "[1, 2, 3, 4, 5]\n",
            "[12, 2, 3, 4, 5]\n",
            "[12, 11, 2, 3, 4, 5]\n",
            "[12, 11, 2, 3, 5]\n",
            "[1, 2, 3, 4]\n"
          ]
        }
      ],
      "source": [
        "#collection (arrays)\n",
        "#list\n",
        "a=[1,2,3,4]\n",
        "print(a)\n",
        "a.append(5)\n",
        "print(a)\n",
        "a[0]=12\n",
        "print(a)\n",
        "a.insert(1,11)\n",
        "print(a)\n",
        "a.pop(4)\n",
        "print(a)\n",
        "#extend\n",
        "l1=[1,2]\n",
        "l2=[3,4]\n",
        "l1.extend(l2)\n",
        "print(l1)"
      ]
    },
    {
      "cell_type": "code",
      "execution_count": null,
      "metadata": {
        "colab": {
          "base_uri": "https://localhost:8080/"
        },
        "id": "0qT3qsd9M_l5",
        "outputId": "3068ab30-aef0-49fb-8464-982b60ac4f41"
      },
      "outputs": [
        {
          "name": "stdout",
          "output_type": "stream",
          "text": [
            "[1, 2, 3, 4, 5]\n",
            "[1, 2, 3, 4, 5, 20]\n"
          ]
        }
      ],
      "source": [
        "#tuple\n",
        "a=(1,2,3,4,5)\n",
        "b=list(a)\n",
        "print(b)\n",
        "b.append(20)\n",
        "print(b)"
      ]
    },
    {
      "cell_type": "code",
      "execution_count": null,
      "metadata": {
        "colab": {
          "background_save": true
        },
        "id": "uhfeeTrvfwOE",
        "outputId": "91b6b168-afe6-47bb-8fde-265db46d3316"
      },
      "outputs": [
        {
          "name": "stdout",
          "output_type": "stream",
          "text": [
            "{1, 2, 3, 4, 23}\n"
          ]
        }
      ],
      "source": [
        "#set\n",
        "a={1,2,3,4}\n",
        "a.add(23)\n",
        "print(a)"
      ]
    },
    {
      "cell_type": "code",
      "source": [
        "#dictonary\n",
        "a={\n",
        "    \"name\":[\"sam\",\"ram\",\"mam\"],\n",
        "    \"age\":[20,21,22],\n",
        "}\n",
        "print(a)\n",
        "print(a.keys())\n",
        "print(a.values())\n",
        "a.update({\"age\":[19,20,21]})\n",
        "print(a)\n",
        "a[\"color\"]=\"red\"\n",
        "print(a)\n",
        "a.pop(\"color\")\n",
        "print(a)\n",
        "del a\n",
        "print(a)"
      ],
      "metadata": {
        "colab": {
          "base_uri": "https://localhost:8080/",
          "height": 291
        },
        "id": "nUMogkBMPlB4",
        "outputId": "075f2f64-5815-4a95-bb62-45c627f21b56"
      },
      "execution_count": null,
      "outputs": [
        {
          "output_type": "stream",
          "name": "stdout",
          "text": [
            "{'name': ['sam', 'ram', 'mam'], 'age': [20, 21, 22]}\n",
            "dict_keys(['name', 'age'])\n",
            "dict_values([['sam', 'ram', 'mam'], [20, 21, 22]])\n",
            "{'name': ['sam', 'ram', 'mam'], 'age': [19, 20, 21]}\n",
            "{'name': ['sam', 'ram', 'mam'], 'age': [19, 20, 21], 'color': 'red'}\n",
            "{'name': ['sam', 'ram', 'mam'], 'age': [19, 20, 21]}\n"
          ]
        },
        {
          "output_type": "error",
          "ename": "NameError",
          "evalue": "name 'a' is not defined",
          "traceback": [
            "\u001b[0;31m---------------------------------------------------------------------------\u001b[0m",
            "\u001b[0;31mNameError\u001b[0m                                 Traceback (most recent call last)",
            "\u001b[0;32m/tmp/ipython-input-9-3557002245.py\u001b[0m in \u001b[0;36m<cell line: 0>\u001b[0;34m()\u001b[0m\n\u001b[1;32m     14\u001b[0m \u001b[0mprint\u001b[0m\u001b[0;34m(\u001b[0m\u001b[0ma\u001b[0m\u001b[0;34m)\u001b[0m\u001b[0;34m\u001b[0m\u001b[0;34m\u001b[0m\u001b[0m\n\u001b[1;32m     15\u001b[0m \u001b[0;32mdel\u001b[0m \u001b[0ma\u001b[0m\u001b[0;34m\u001b[0m\u001b[0;34m\u001b[0m\u001b[0m\n\u001b[0;32m---> 16\u001b[0;31m \u001b[0mprint\u001b[0m\u001b[0;34m(\u001b[0m\u001b[0ma\u001b[0m\u001b[0;34m)\u001b[0m\u001b[0;34m\u001b[0m\u001b[0;34m\u001b[0m\u001b[0m\n\u001b[0m",
            "\u001b[0;31mNameError\u001b[0m: name 'a' is not defined"
          ]
        }
      ]
    },
    {
      "cell_type": "code",
      "source": [
        "#function\n",
        "def add():\n",
        "   a=int(input(\"enter the first number:\"))\n",
        "   b=int(input(\"enter the second number:\"))\n",
        "   print(a+b)\n",
        "print(\"ok\")\n",
        "\n",
        "\n",
        "def sub():\n",
        "   a=int(input(\"enter the first number:\"))\n",
        "   b=int(input(\"enter the second number:\"))\n",
        "   print(a-b)\n",
        "print(\"ok\")\n",
        "\n",
        "def mul():\n",
        "   a=int(input(\"enter the first number:\"))\n",
        "   b=int(input(\"enter the second number:\"))\n",
        "   print(a*b)\n",
        "print(\"ok\")\n",
        "\n",
        "def div():\n",
        "   a=int(input(\"enter the first number:\"))\n",
        "   b=int(input(\"enter the second number:\"))\n",
        "   print(a/b)\n",
        "print(\"ok\")\n",
        "\n",
        "\n",
        "\n",
        "add()\n",
        "sub()\n",
        "mul()\n",
        "div(32)\n"
      ],
      "metadata": {
        "colab": {
          "base_uri": "https://localhost:8080/"
        },
        "id": "ZGUlToX8RkBk",
        "outputId": "9982c1bb-5208-437d-fb91-8af2f5b340dd"
      },
      "execution_count": null,
      "outputs": [
        {
          "output_type": "stream",
          "name": "stdout",
          "text": [
            "ok\n",
            "ok\n",
            "ok\n",
            "ok\n",
            "enter the first number:2\n",
            "enter the second number:4\n",
            "6\n",
            "enter the first number:34\n",
            "enter the second number:32\n",
            "2\n",
            "enter the first number:3\n",
            "enter the second number:2\n",
            "6\n",
            "enter the first number:15\n",
            "enter the second number:3\n",
            "5.0\n"
          ]
        }
      ]
    },
    {
      "cell_type": "code",
      "source": [
        "#function with parameter\n",
        "def painter(msg):\n",
        "  print(\"message:\",msg)\n",
        "painter(\"paint my house\")"
      ],
      "metadata": {
        "colab": {
          "base_uri": "https://localhost:8080/"
        },
        "id": "_y2PzKMebJqo",
        "outputId": "8f639c93-41c9-4d8e-aab9-f0fe58b9e00a"
      },
      "execution_count": null,
      "outputs": [
        {
          "output_type": "stream",
          "name": "stdout",
          "text": [
            "message: paint my house\n"
          ]
        }
      ]
    },
    {
      "cell_type": "code",
      "source": [
        "def f_o_r_e(b):\n",
        "   if b%2==0:\n",
        "     print(\"even\")\n",
        "   else:\n",
        "    print(\"odd\")\n",
        "a=int(input(\"enter the number:\"))\n",
        "f_o_r_e(a)"
      ],
      "metadata": {
        "colab": {
          "base_uri": "https://localhost:8080/"
        },
        "id": "4ST6UeDnbpVC",
        "outputId": "420c8586-2ff4-42c9-86f0-0dacbf827906"
      },
      "execution_count": null,
      "outputs": [
        {
          "output_type": "stream",
          "name": "stdout",
          "text": [
            "enter the number:12\n",
            "even\n"
          ]
        }
      ]
    },
    {
      "cell_type": "code",
      "source": [
        "def range(r1,r2):\n",
        "  for i in range(r1,r2):\n",
        "     print(i)\n",
        "range(1,10)"
      ],
      "metadata": {
        "id": "QxVWr0_lf-V8"
      },
      "execution_count": null,
      "outputs": []
    }
  ],
  "metadata": {
    "colab": {
      "provenance": [],
      "authorship_tag": "ABX9TyOloI4RQ2n0hNldrKERLQ6A",
      "include_colab_link": true
    },
    "kernelspec": {
      "display_name": "Python 3",
      "name": "python3"
    },
    "language_info": {
      "name": "python"
    }
  },
  "nbformat": 4,
  "nbformat_minor": 0
}